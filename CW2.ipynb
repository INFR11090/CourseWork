{
 "cells": [
  {
   "cell_type": "code",
   "execution_count": 1,
   "metadata": {},
   "outputs": [
    {
     "data": {
      "text/html": [
       "<style>.container { width:100% !important; }</style>"
      ],
      "text/plain": [
       "<IPython.core.display.HTML object>"
      ]
     },
     "metadata": {},
     "output_type": "display_data"
    }
   ],
   "source": [
    "from IPython.core.display import display, HTML\n",
    "display(HTML(\"<style>.container { width:100% !important; }</style>\"))"
   ]
  },
  {
   "cell_type": "markdown",
   "metadata": {},
   "source": [
    "# Decision Making in Robots and Autonomous Agents(INFR11090): Homework Assignment 2 (Semester 2 -2017/18)\n",
    "\n",
    "\n",
    "## Relevant Notes:\n",
    "[OpenAI GYM Tutorial](https://gym.openai.com/docs/)\n",
    "\n",
    "* Remember to set a seed to ensure that your work is reproducible !\n",
    "\n",
    "\n",
    "# Requirements\n",
    "\n",
    "- gym >= 0.9.4\n",
    "- Python >= 3.6\n",
    "- Numpy >= 1.13.3\n",
    "- Matplotlib >= 2.1.1\n",
    "- Scikit-image >= 0.13.1\n",
    "- (Recommended) JupyterLab >= 0.31.0\n",
    "- ffmpeg (for visualisations)"
   ]
  },
  {
   "cell_type": "code",
   "execution_count": 2,
   "metadata": {},
   "outputs": [],
   "source": [
    "import matplotlib\n",
    "matplotlib.use('TkAgg')  # avoid non-GUI warning for matplotlib\n",
    "import matplotlib.pyplot as plt\n",
    "import numpy as np\n",
    "\n",
    "from IPython.display import display, HTML\n",
    "from itertools import product as cartesian_product\n",
    "from skimage.draw import circle, circle_perimeter\n",
    "\n",
    "from utils import MazeEnv\n",
    "\n",
    "%matplotlib inline\n",
    "np.set_printoptions(linewidth=250,precision=2)"
   ]
  },
  {
   "cell_type": "markdown",
   "metadata": {},
   "source": [
    "## Environment Definition"
   ]
  },
  {
   "cell_type": "code",
   "execution_count": 3,
   "metadata": {},
   "outputs": [],
   "source": [
    "class MazeGenerator(object):\n",
    "    def __init__(self):\n",
    "        self.maze = None\n",
    "    \n",
    "    def init_end_states(self):\n",
    "        \"\"\"Get start and end goals\"\"\"\n",
    "        init_state = [3,3]\n",
    "        goal_states = [[15,23]]\n",
    "        return init_state, goal_states\n",
    "        \n",
    "    def get_maze(self):\n",
    "        return self.maze\n",
    "\n",
    "\n",
    "class SimpleMazeGenerator(MazeGenerator):\n",
    "    def __init__(self, maze):\n",
    "        super().__init__()\n",
    "        \n",
    "        self.maze = maze"
   ]
  },
  {
   "cell_type": "code",
   "execution_count": 4,
   "metadata": {},
   "outputs": [],
   "source": [
    "#Region ID's (also related to the region colours, more in utils.py - line 70)\n",
    "regions = {'water':6, 'edge':7, 'sky':8, 'mine':4, 'uncharted':5}\n",
    "\n",
    "env_size = 25\n",
    "maze_array = np.zeros([env_size,env_size]) + regions['water']\n",
    "\n",
    "#Boundary\n",
    "maze_array[:,0] = regions['edge']\n",
    "maze_array[:,-1] = regions['edge']\n",
    "maze_array[-1,:] = regions['edge']\n",
    "maze_array[0:3,:] = regions['sky']\n",
    "\n",
    "#Bombs\n",
    "maze_array[circle(15,5,2)] = regions['mine']\n",
    "maze_array[circle(10,20,2)] = regions['mine']\n",
    "maze_array[circle(20,8,2)] = regions['mine']\n",
    "maze_array[circle(9,15,2)] = regions['mine']\n",
    "maze_array[circle(17,22,2)] = regions['mine']\n",
    "maze_array[circle(8,8,2)] = regions['mine']\n",
    "\n",
    "#Unmapped territory\n",
    "maze_array[circle(17,15,6)] = regions['uncharted']"
   ]
  },
  {
   "cell_type": "code",
   "execution_count": 5,
   "metadata": {},
   "outputs": [],
   "source": [
    "#Generate the underwater maze environment\n",
    "maze = SimpleMazeGenerator(maze_array)\n",
    "submarine = MazeEnv(maze, render_trace=True)"
   ]
  },
  {
   "cell_type": "markdown",
   "metadata": {},
   "source": [
    "## Brief Introduction"
   ]
  },
  {
   "cell_type": "code",
   "execution_count": 6,
   "metadata": {},
   "outputs": [
    {
     "data": {
      "text/plain": [
       "<matplotlib.image.AxesImage at 0x7f43b6fa71d0>"
      ]
     },
     "execution_count": 6,
     "metadata": {},
     "output_type": "execute_result"
    },
    {
     "data": {
      "image/png": "[encoded data removed]",
      "text/plain": [
       "<matplotlib.figure.Figure at 0x7f43b6fc4128>"
      ]
     },
     "metadata": {},
     "output_type": "display_data"
    }
   ],
   "source": [
    "# A view of the environment\n",
    "\n",
    "#reset(), resets the environment back to it's initial conditions and returns a view of it\n",
    "snapshot = submarine.reset() \n",
    "\n",
    "plt.imshow(snapshot, cmap=submarine.cmap, norm=submarine.norm)"
   ]
  },
  {
   "cell_type": "code",
   "execution_count": 7,
   "metadata": {},
   "outputs": [
    {
     "name": "stdout",
     "output_type": "stream",
     "text": [
      "Number of Actions :  4 \n",
      "Action ID: Up, Down, Left, Right =  [0, 1, 2, 3] \n",
      "Goal states:  [[15, 23]] \n",
      "Maze size:  (25, 25) \n",
      "List of all states in the environment:  [(0, 0), (0, 1), (0, 2), (0, 3), (0, 4)] ...\n"
     ]
    }
   ],
   "source": [
    "# Some available information from the environment\n",
    "print(\"Number of Actions : \", submarine.num_actions,\n",
    "      \"\\nAction ID: Up, Down, Left, Right = \",submarine.all_actions,\n",
    "     \"\\nGoal states: \", submarine.goal_states,\n",
    "      \"\\nMaze size: \", submarine.maze_size,\n",
    "     \"\\nList of all states in the environment: \", submarine.valid_states[0:5], \"...\")"
   ]
  },
  {
   "cell_type": "code",
   "execution_count": 8,
   "metadata": {},
   "outputs": [
    {
     "data": {
      "text/plain": [
       "<matplotlib.image.AxesImage at 0x7f43b4727b70>"
      ]
     },
     "execution_count": 8,
     "metadata": {},
     "output_type": "execute_result"
    },
    {
     "data": {
      "image/png": "[encoded data removed]",
      "text/plain": [
       "<matplotlib.figure.Figure at 0x7f43b6fe9630>"
      ]
     },
     "metadata": {},
     "output_type": "display_data"
    }
   ],
   "source": [
    "#Unlike the traditional gym environment, each call to the step() function executes an action and takes a step through the dynamics of the environment.\n",
    "#The resulting environmental observation is returned. Note: This function updates the state of the executing agent.\n",
    "\n",
    "submarine.step(1)\n",
    "submarine.step(1)\n",
    "submarine.step(1)\n",
    "snapshot = submarine.step(1)\n",
    "plt.imshow(snapshot, cmap=submarine.cmap, norm=submarine.norm)"
   ]
  },
  {
   "cell_type": "code",
   "execution_count": 9,
   "metadata": {},
   "outputs": [
    {
     "data": {
      "text/plain": [
       "<matplotlib.image.AxesImage at 0x7f43b4684cc0>"
      ]
     },
     "execution_count": 9,
     "metadata": {},
     "output_type": "execute_result"
    },
    {
     "data": {
      "image/png": "[encoded data removed]",
      "text/plain": [
       "<matplotlib.figure.Figure at 0x7f43b4714a20>"
      ]
     },
     "metadata": {},
     "output_type": "display_data"
    }
   ],
   "source": [
    "submarine.step(3)\n",
    "submarine.step(3)\n",
    "snapshot = submarine.step(3)\n",
    "plt.imshow(snapshot, cmap=submarine.cmap, norm=submarine.norm)"
   ]
  },
  {
   "cell_type": "code",
   "execution_count": 10,
   "metadata": {},
   "outputs": [
    {
     "data": {
      "text/plain": [
       "[0, 1]"
      ]
     },
     "execution_count": 10,
     "metadata": {},
     "output_type": "execute_result"
    }
   ],
   "source": [
    "# _next_state(current_state,action) takes a state and an action as an input and returns the resulting state.\n",
    "# Note: This function does not update the state of the executing agent.\n",
    "submarine._next_state((0,0),3)"
   ]
  },
  {
   "cell_type": "code",
   "execution_count": null,
   "metadata": {},
   "outputs": [],
   "source": []
  },
  {
   "cell_type": "code",
   "execution_count": null,
   "metadata": {},
   "outputs": [],
   "source": []
  },
  {
   "cell_type": "markdown",
   "metadata": {},
   "source": [
    "# CourseWork\n",
    "\n",
    "You are to design an agent that will be in charge of the navigation of a submarine, through a\n",
    "minefield, towards a goal.\n",
    "\n",
    "Navigating through uncharted territory can be dangerous, which we will model by applying some damage to the submarine. Additionally, there is some uncertainty~ in the execution of actions when moving through uncharted territory. Currents are very strong and there is a 20% chance that the submarine will diverge away from its path during execution. For example, when going down within the uncharted territory, there is an 80% chance it will go down, but also a 10% chance that it will go left, and another 10% chance it will go right.\n",
    "\n",
    "\n",
    "Hitting a mine will lead to the destruction of the submarine and boundary regions marked **edge** or **sky** cannot be traversed.  Your task is to develop a strategy for this agent (plotted as the *blue* dot) to safely navigate towards the goal (plotted as the *green* dot).\n",
    "\n",
    "You are to do this using the principles of Dynamic Programming. In particular, in this exercise,\n",
    "you will implement the methods of Policy and Value Iteration. For all of these questions, please use\n",
    "the provided visualisation functions to plot your policies and their associated trajectories. Include\n",
    "concise comments within the notebook to highlight any interesting observations to support your\n",
    "answers"
   ]
  },
  {
   "cell_type": "markdown",
   "metadata": {},
   "source": [
    "## Question 1.1 : Reward and Transition Functions"
   ]
  },
  {
   "cell_type": "markdown",
   "metadata": {},
   "source": [
    "Define suitable reward and transition functions for the submarine environment. This is a key task for you as the\n",
    "designer of this agent. \n",
    "\n",
    "The reward function specifies a scalar reward for every state in the environment (in accordance to the coursework description above) and the transition function determines the next *feasible* state, $s'$, reached when an action $a$ is taken from state $s$."
   ]
  },
  {
   "cell_type": "code",
   "execution_count": 47,
   "metadata": {
    "scrolled": true
   },
   "outputs": [
    {
     "data": {
      "text/plain": [
       "array([[ 0.,  0.,  0.,  0.,  0.,  0.,  0.,  0.,  0.,  0.,  0.,  0.,  0.,  0.,  0.,  0.,  0.,  0.,  0.,  0.,  0.,  0.,  0.,  0.,  0.],\n",
       "       [ 0.,  0.,  0.,  0.,  0.,  0.,  0.,  0.,  0.,  0.,  0.,  0.,  0.,  0.,  0.,  0.,  0.,  0.,  0.,  0.,  0.,  0.,  0.,  0.,  0.],\n",
       "       [ 0.,  0.,  0.,  0.,  0.,  0.,  0.,  0.,  0.,  0.,  0.,  0.,  0.,  0.,  0.,  0.,  0.,  0.,  0.,  0.,  0.,  0.,  0.,  0.,  0.],\n",
       "       [-5.,  0.,  0.,  0.,  0.,  0.,  0.,  0.,  0.,  0.,  0.,  0.,  0.,  0.,  0.,  0.,  0.,  0.,  0.,  0.,  0.,  0.,  0.,  0., -5.],\n",
       "       [-5.,  0.,  0.,  0.,  0.,  0.,  0.,  0.,  0.,  0.,  0.,  0.,  0.,  0.,  0.,  0.,  0.,  0.,  0.,  0.,  0.,  0.,  0.,  0., -5.],\n",
       "       [-5.,  0.,  0.,  0.,  0.,  0.,  0.,  0.,  0.,  0.,  0.,  0.,  0.,  0.,  0.,  0.,  0.,  0.,  0.,  0.,  0.,  0.,  0.,  0., -5.],\n",
       "       [-5.,  0.,  0.,  0.,  0.,  0.,  0.,  0.,  0.,  0.,  0.,  0.,  0.,  0.,  0.,  0.,  0.,  0.,  0.,  0.,  0.,  0.,  0.,  0., -5.],\n",
       "       [-5.,  0.,  0.,  0.,  0.,  0.,  0., -5., -5., -5.,  0.,  0.,  0.,  0.,  0.,  0.,  0.,  0.,  0.,  0.,  0.,  0.,  0.,  0., -5.],\n",
       "       [-5.,  0.,  0.,  0.,  0.,  0.,  0., -5., -5., -5.,  0.,  0.,  0.,  0., -5., -5., -5.,  0.,  0.,  0.,  0.,  0.,  0.,  0., -5.],\n",
       "       [-5.,  0.,  0.,  0.,  0.,  0.,  0., -5., -5., -5.,  0.,  0.,  0.,  0., -5., -5., -5.,  0.,  0., -5., -5., -5.,  0.,  0., -5.],\n",
       "       [-5.,  0.,  0.,  0.,  0.,  0.,  0.,  0.,  0.,  0.,  0.,  0.,  0.,  0., -5., -5., -5.,  0.,  0., -5., -5., -5.,  0.,  0., -5.],\n",
       "       [-5.,  0.,  0.,  0.,  0.,  0.,  0.,  0.,  0.,  0.,  0.,  0.,  0.,  0.,  0.,  0.,  0.,  0.,  0., -5., -5., -5.,  0.,  0., -5.],\n",
       "       [-5.,  0.,  0.,  0.,  0.,  0.,  0.,  0.,  0.,  0.,  0.,  0., -1., -1., -1., -1., -1., -1., -1.,  0.,  0.,  0.,  0.,  0., -5.],\n",
       "       [-5.,  0.,  0.,  0.,  0.,  0.,  0.,  0.,  0.,  0.,  0., -1., -1., -1., -1., -1., -1., -1., -1., -1.,  0.,  0.,  0.,  0., -5.],\n",
       "       [-5.,  0.,  0.,  0., -5., -5., -5.,  0.,  0.,  0., -1., -1., -1., -1., -1., -1., -1., -1., -1., -1., -1.,  0.,  0.,  0., -5.],\n",
       "       [-5.,  0.,  0.,  0., -5., -5., -5.,  0.,  0.,  0., -1., -1., -1., -1., -1., -1., -1., -1., -1., -1., -1.,  0.,  0.,  1., -5.],\n",
       "       [-5.,  0.,  0.,  0., -5., -5., -5.,  0.,  0.,  0., -1., -1., -1., -1., -1., -1., -1., -1., -1., -1., -1., -5., -5., -5., -5.],\n",
       "       [-5.,  0.,  0.,  0.,  0.,  0.,  0.,  0.,  0.,  0., -1., -1., -1., -1., -1., -1., -1., -1., -1., -1., -1., -5., -5., -5., -5.],\n",
       "       [-5.,  0.,  0.,  0.,  0.,  0.,  0.,  0.,  0.,  0., -1., -1., -1., -1., -1., -1., -1., -1., -1., -1., -1., -5., -5., -5., -5.],\n",
       "       [-5.,  0.,  0.,  0.,  0.,  0.,  0., -5., -5., -5., -1., -1., -1., -1., -1., -1., -1., -1., -1., -1., -1.,  0.,  0.,  0., -5.],\n",
       "       [-5.,  0.,  0.,  0.,  0.,  0.,  0., -5., -5., -5., -1., -1., -1., -1., -1., -1., -1., -1., -1., -1., -1.,  0.,  0.,  0., -5.],\n",
       "       [-5.,  0.,  0.,  0.,  0.,  0.,  0., -5., -5., -5.,  0., -1., -1., -1., -1., -1., -1., -1., -1., -1.,  0.,  0.,  0.,  0., -5.],\n",
       "       [-5.,  0.,  0.,  0.,  0.,  0.,  0.,  0.,  0.,  0.,  0.,  0., -1., -1., -1., -1., -1., -1., -1.,  0.,  0.,  0.,  0.,  0., -5.],\n",
       "       [-5.,  0.,  0.,  0.,  0.,  0.,  0.,  0.,  0.,  0.,  0.,  0.,  0.,  0.,  0.,  0.,  0.,  0.,  0.,  0.,  0.,  0.,  0.,  0., -5.],\n",
       "       [-5., -5., -5., -5., -5., -5., -5., -5., -5., -5., -5., -5., -5., -5., -5., -5., -5., -5., -5., -5., -5., -5., -5., -5., -5.]])"
      ]
     },
     "execution_count": 47,
     "metadata": {},
     "output_type": "execute_result"
    }
   ],
   "source": [
    "# HINT: Example reward function\n",
    "R"
   ]
  },
  {
   "cell_type": "markdown",
   "metadata": {},
   "source": [
    "## Question 1.2: Value Iteration\n",
    "\n",
    "\n",
    "Your first algorithmic task will be to apply value iteration to the solution of this navigation task, using the reward and transition functions you have devised in the previous step within the given the specification of the environment."
   ]
  },
  {
   "cell_type": "code",
   "execution_count": 31,
   "metadata": {},
   "outputs": [
    {
     "name": "stdout",
     "output_type": "stream",
     "text": [
      "Value iteration converged at iteration #71\n"
     ]
    }
   ],
   "source": [
    "# HINT: Example Iteration Template\n",
    "V = np.zeros_like(submarine.maze)\n",
    "V_sum = 0\n",
    "discount = 0.8\n",
    "for i in range(10000):\n",
    "    for state, region in np.ndenumerate(submarine.maze):\n",
    "        \n",
    "        #Bellman Update\n",
    "        \n",
    "        \n",
    "    if (i % 10) == 0:\n",
    "        if np.abs(V.sum() - V_sum) < 1e-6:\n",
    "            print(f'Value iteration converged at iteration #{i+1:,}')\n",
    "            break\n",
    "        V_sum = V.sum()\n",
    "   "
   ]
  },
  {
   "cell_type": "code",
   "execution_count": 35,
   "metadata": {
    "scrolled": false
   },
   "outputs": [
    {
     "data": {
      "text/plain": [
       "<matplotlib.image.AxesImage at 0x7f43b6f0f6a0>"
      ]
     },
     "execution_count": 35,
     "metadata": {},
     "output_type": "execute_result"
    },
    {
     "data": {
      "image/png": "[encoded data removed]",
      "text/plain": [
       "<matplotlib.figure.Figure at 0x7f4307a977f0>"
      ]
     },
     "metadata": {},
     "output_type": "display_data"
    }
   ],
   "source": [
    "plt.imshow(V,cmap='gray')"
   ]
  },
  {
   "cell_type": "code",
   "execution_count": 32,
   "metadata": {},
   "outputs": [],
   "source": [
    "## HINT: You will also need to create a deterministic policy using the optimal value function\n",
    "policy = np.zeros_like(V)\n",
    "\n",
    "for state, region in np.ndenumerate(submarine.maze):\n",
    "    action_values = np.zeros(shape=submarine.num_actions)\n",
    "    for action in range(submarine.num_actions):\n",
    "        next_state = tuple(submarine._next_state(state,action))\n",
    "        \n",
    "    #select the best action based on the highest state-action value\n",
    "    policy[state] = np.argmax(action_values)"
   ]
  },
  {
   "cell_type": "code",
   "execution_count": 93,
   "metadata": {},
   "outputs": [
    {
     "name": "stderr",
     "output_type": "stream",
     "text": [
      "/opt/conda/lib/python3.6/site-packages/matplotlib/figure.py:418: UserWarning: matplotlib is currently using a non-GUI backend, so cannot show the figure\n",
      "  \"matplotlib is currently using a non-GUI backend, \"\n"
     ]
    },
    {
     "data": {
      "text/html": [
       "<video width=\"600\" height=\"400\" controls autoplay loop>\n",
       "  <source type=\"video/mp4\" src=\"data:video/mp4;base64,AAAAHGZ0eXBNNFYgAAACAGlzb21pc28yYXZjMQAAAAhmcmVlAAAS/21kYXQAAAKsBgX//6jcRem9\n",
       "5tlIt5Ys2CDZI+7veDI2NCAtIGNvcmUgMTM4IHIyMCA0MGU3MmRhIC0gSC4yNjQvTVBFRy00IEFW\n",
       "QyBjb2RlYyAtIENvcHlsZWZ0IDIwMDMtMjAxMyAtIGh0dHA6Ly93d3cudmlkZW9sYW4ub3JnL3gy\n",
       "NjQuaHRtbCAtIG9wdGlvbnM6IGNhYmFjPTEgcmVmPTMgZGVibG9jaz0xOjA6MCBhbmFseXNlPTB4\n",
       "MzoweDExMyBtZT1oZXggc3VibWU9NyBwc3k9MSBwc3lfcmQ9MS4wMDowLjAwIG1peGVkX3JlZj0x\n",
       "IG1lX3JhbmdlPTE2IGNocm9tYV9tZT0xIHRyZWxsaXM9MSA4eDhkY3Q9MSBjcW09MCBkZWFkem9u\n",
       "ZT0yMSwxMSBmYXN0X3Bza2lwPTEgY2hyb21hX3FwX29mZnNldD0tMiB0aHJlYWRzPTk2IGxvb2th\n",
       "aGVhZF90aHJlYWRzPTMgc2xpY2VkX3RocmVhZHM9MCBucj0wIGRlY2ltYXRlPTEgaW50ZXJsYWNl\n",
       "ZD0wIGJsdXJheV9jb21wYXQ9MCBjb25zdHJhaW5lZF9pbnRyYT0wIGJmcmFtZXM9MyBiX3B5cmFt\n",
       "aWQ9MiBiX2FkYXB0PTEgYl9iaWFzPTAgZGlyZWN0PTEgd2VpZ2h0Yj0xIG9wZW5fZ29wPTAgd2Vp\n",
       "Z2h0cD0yIGtleWludD0yNTAga2V5aW50X21pbj01IHNjZW5lY3V0PTQwIGludHJhX3JlZnJlc2g9\n",
       "MCByY19sb29rYWhlYWQ9NDAgcmM9Y3JmIG1idHJlZT0xIGNyZj0yMy4wIHFjb21wPTAuNjAgcXBt\n",
       "aW49MCBxcG1heD02OSBxcHN0ZXA9NCBpcF9yYXRpbz0xLjQwIGFxPTE6MS4wMACAAAAJlGWIhAAT\n",
       "//73sY+BTcgADZc6inof4RWx9JBRerHZoGTqAAADAAADAAALO87TWwa/ZtrYAAADALEAEQCABlcx\n",
       "/CDd2wFCOoRmcOzZqc6SLX7/deeTfNTV70mxKk9jBefrBapzJwbHpvh+36yDQp0hmFhZh4AfobKr\n",
       "LBrIn7LJY21m+6X1ZWMYKNoX6ExOAPrErG0wuB4bw9GGamSJhHztoVSTla9u/14Tl0AeImcA6svh\n",
       "zt2OGWJaU4CArDFzZ/SNeYWSjxa8jqyFfyU54Iu/GFChGUL9qsPNsajaP865uifevqtE3nWjWlHv\n",
       "dU9OD9l7FYoVauYadPtH5EgQNbhOvy/m8/mp5hkz8PeiXMNTRNEw5ERc86c8ST0UhBMzK7+sI0T/\n",
       "D0gpeO9jB3RZwVFhGF1PhmpjHr7U036Ksb3YKG9lVAf34UbfMhnyQ2Rdpoze9voQjvXn5M6GiMpp\n",
       "sawEPFKQCD23+AMI2/DuwnExXb/+JWMYJOUa24vAMzHmah2BBd9RUIzs7psej9KpYB7qsaEw7pZh\n",
       "3VjSOH3f8ly4jOlWPAXTAnyyvuhZ4Zp5frygrANkBxbMCGlvpL4d42aKaPFtZ9LHD4/aDE2hVqqi\n",
       "sHj0P88MmCD7zbC9Xad5T4TzvLFgvH3WuC5994h8PMu0/Wl9M3iOgYqL+4jrofNhPJqnZvt4eKe7\n",
       "Rya/UPK5rSUihu/lu+ytpyWIIn9MQv6dBas0U9Wv4F2FzRSTXI+6ScTJ/3kEZEJllY1zmS0Dp4Ll\n",
       "QKL4E9WQv6woOZB1JU4JPPQdW9oauIwhcUBDmYAv2538WTHa8N/ipRms999ehTod+Vjw16qdisIx\n",
       "Kt6Sk9AGDcyptji+iJ+nNUDJ4Ht78aPKM2F4hTmfx5ZZ1TobDk7skhtwYPW7tcRKp9ER9oplP+Cc\n",
       "+n0Ymmvw7JqKRKCiajB1VQrW072Uxq1OMle+yvz9xr5OXXkEAbWdefmXo5J2kxBu0ZnV7Xt+HYwM\n",
       "2yMUMhoPzZuGOd5yMzSbMmp3mjk8L2WjcHkAYt9+WXP8qGzwhtYV8TqaldhfBscCpeFyAbobSLlG\n",
       "vIXXg2Lba4nDMlKVOaAmrOEJQSlNhnrXmANtMgbOXrYwqq6a54vebgPIhwh3EwXkxF+OiSYXRDCX\n",
       "UI49RKan18fVkIfMpeuUgqtOeLIh7cd9u/WTv8bRoxZtakvzffMG7rzXGckLTgCZBRPLENhr849g\n",
       "mjl3ZZEniUmPB2pu9wMtWvCdluiYh7FTlfEfyrDbYaHOD+ZPNHmVuWeWWoc0QV95sjGOg85M8ChK\n",
       "3jNT+v+nH1WzEa7cyHrk+JpFhh4g2W+TSPYb+qLYpbmzCwVUrwQZM6v1rbbz9+v/4W0WHO1XIRQQ\n",
       "G2ma/hmAOj14aSSSebycMWGfW7zNwoWglFJKDBXU8ICrww/4uadZPrCnDSToEatMLw5f5rbDA397\n",
       "2T0chhDF87+2siB3paSHlJfLvTt2X9uJmOPuhkpfU2BYCjKPjDUV+3Zei7VTMlQwMwRtR6Kl+0v+\n",
       "seVeNFr/t18UEXWix/RxrB64bHE+85gDDBV9YHrMN3VsCnGrVolD/ddJKFJmkNNI/Nvvw3iA5qOJ\n",
       "HmVb+oU0Do+JmZxxqkCwX/4+CUFe3AYjII6tomdcjyqjHWxjtR9dP/ZwSYNWmZ/yyn4GywcA94u8\n",
       "FG0n7ZnVh/bWqzwz4WONi8qHLo3jJ63CBhsHhsfdc+96BacADQL8GZT3diu/usNYB28axayUcEJm\n",
       "Mlm6hr4P4VYEs8OQ5MZvoidyc0REj0w0KFbjg8nkhry20l4zGNTvLrR40nmrFJLaLsLCIrvhMVH6\n",
       "Ffs/S8v5xzx7JnVzbC1KN+HCsS9AmBPCz+I+lVvzXpc222GGkm7dssn/S+UQxShSto0XhyKc0HuH\n",
       "mxmf8qaFhvE8+0zeUivUtYzTZET7QWIQ39kk1KL7ZGGd0MHjBG/b3p2l7eE7MUYWFxjTkbqSC4wv\n",
       "ys+U/OyykXyD0W+azQeUuCIzwXHZFYxqHMu1o9KxzmRRoWBwi2I5uxxJBEmixHatf7b+EZ2Df89u\n",
       "S3KgedD4UiXfDuZI7ZmaL9Wa/wGlp7teGaRBirZ28qdffgqQqGpP+55fI6Epp9VdkDI0DkgXawX8\n",
       "77hn0EbIE+JYO3l8ITBxVXUuOefVxFC3mFJHQBueYVQSgEHzKgARdKwlehY4M/Ar0Dl/E+OHwpAu\n",
       "5Y5gl++aGA5Oh+ks9iHTsMeNCVOzetKSyarZs/4EieUdcjeZD7ADkKA1+ZnUkmftrtnQbHEFc75n\n",
       "1JvxO0vd4XBXjS5HhFuzf7Cj2Jz1C0f+CzPQa04IpxvzBH2KbEQLJS50xQhnHwPHHY8zbh/7Aecg\n",
       "KylPVNPdeKU9sKbAcrbKshR7JESni8oceFyY4M90sv4J2g5wX2IUhMBCPWwBDiixlJjxm0Wt6DLB\n",
       "Rx5B9Pl/cMHAyQqJLXnXqKrETrMV88oiHd2mJvc0kTUjthfRaH677+nO1iuY8i0KKiuAb9wk2P0u\n",
       "LX6084/QZskgceYCHccCLgvb45rnK0BwbPbgauxJqTzBxtuL0RUUkVhX4jk3zyLsGZ7DP8JgwcWI\n",
       "5nDTs9C3ByBv+yhifwudxKSG0rtv7z+GP9yQsUHR1A9MGmfDsjlixUVsgQMKnhQNTPjjku8fpUZq\n",
       "Q/XBvIRwOBLO5bagTHHvbQwuTpieZxcHHtH+/uXWSmsaeVscoE0/BGcz8Vr1LcVPkB+YG2FtBJsP\n",
       "l8eY1mulFhjKVWE28CbXh50tAXpMqrQpblq1bh9aDqPEM7G4GQNBO6v6/Umbm1YMQunxVPvDJAkk\n",
       "MJJvEgimsJSlgaP3Kdkm/HMpwu4UigCl1F6uIgWFSSq3tE2weYFnZcxUFrLL5KUb1tOx4dHoRXYn\n",
       "ZOEhCW/TDENPNllcbyy8iT85MvBp3ysWzEaLTZ//H/2e4hZvGTI8k4zbZqj6+QXjR/GhulvDzm6w\n",
       "nZF2GftZrOYqvnGWLpcpO8ZxCy2tCPwMNYUHmBpU3uueNwaLl8mRb5R2zLa9Z/TMEFahqkEzduwo\n",
       "AkYSOIuO5h/b9cg9t7PM/8RYCmgJGOtYfbUyY12Pl8sJes8Y9atRTiFXJgK4I//4nIJlkWdK+v/Y\n",
       "YwZ4QcXkIJnsrRMzWex1jGlbf7HC66CGRVvUZc2aUIWFnNXMIaXXZ12vxWKouig3d15oUzYGq9CH\n",
       "dorTx2LDRj8slpX9HWLiHUedcR62+ZMp3YcD7WzJWSJJRDvAJa/lugAAAwAAAwAAAwAAPaEAAAFW\n",
       "QZokbEEv/rUqgACcMXEAE2MibBCYsQDW3ufN2K87mg33jqeFhyfUWc7eRJ9DbvwQulKfv3zlHOon\n",
       "IKGWttnnF/d7mghJoCdCR1JeQCzb5iveGt3BZq69hoJRQj4Lsu873ZLisHOq8K/wH1Fl9hV+H//P\n",
       "4ECWFQ60EalErl9pNYgPME03qCQlolvYwPwshjKO/HGOWBasFnONTKSoQiupXgUyUtRFiFm5WNAt\n",
       "PLFcO1GBJ/QoW1kD/oCdafCYOGTLFEk1Kc912V3bKyYzCT/npmUggJvgAJLOrUV+8SVyT62b38eS\n",
       "2+9GO+KYbgocTQ5GxMsAw8JA77/5IDtQ9CWLlOY1djFqjmab0HIW5/S/afOllSGPaBJA+YHuUTLT\n",
       "SNPBbG2r19k1VEZnpm/89eX194seqJmKrKKnYnpli9oyTvrN6sxwjEtQZXZ+ewxic3/SF4vAAMyA\n",
       "AAAAsEGeQniCHwAAtX0EF/d98tpJ3g3SnhIERE/J4CrALbr7u9q4c6uZyA4KEB/Moqw/IVTW4ym/\n",
       "+m+OabWIHAeO3v+O8hkDSHVxMiiEc5fYTbRESNgcue0GQsKMYN6C66g1EiC+RcVD92ld3H0ohiFN\n",
       "AuDYVLcw8/sx2AvMDVJcRwPpBuH/13xD+aNDkn8sJb9yVZ6jO5/cknTmn+jSRhu/NOV1ydxqQovs\n",
       "rzfn1WjAACmhAAAAOQGeYXRD/wABkbpeElR3Ga1rJwbwxBDmjcAACGkQVH404K/mLNanV2oW7GZW\n",
       "rbhg6U8uV6qiR4BaQAAAAFIBnmNqQ/8AAAMDVef6mGtxgA/OZH8Roio3SqsOudn6hGZ34Qq9qMM8\n",
       "z/yTlZ/veCrUcOSN43wHpctzdOkdNbfd2wD+lOn1LCvW59yj/NyP5AH/AAABfUGaaEmoQWiZTAgh\n",
       "//6qVQAAAwDqe15C+KAE145ot0QYCjxNohhXYPdkx4vl3Bxhv5lnEcnFlb//2ZB0LIVb1Yz0wZmd\n",
       "wol+WX0vbYNG2/1MYPdcWRoBme6gMh+LygvCfo0oE81Iqa42biSZssH6jWTkXaPR64GCS3HOe5b5\n",
       "FQxGvzKvbi3g+cZMuxhGvSGTHIonPc7iCxxVzWagJw5fPLNV4FDoLnj3/8fXEHogmaiOva7qOeio\n",
       "NVdXlTvIbiykPD3vb9hBRimY2pO+FuVNJVkon2OyVS0+CwuKUa/e1JThPjPyTTWxFigf99vN4EzQ\n",
       "29lbnmD6ZfMxF5rUnSFNv2JKxp78Bc/CNclvi3e6hBahakcs9kZwvQ4RBSg144D/gsAZ6azT8dz+\n",
       "Ci8ePFaQFmaFufq9oisoSVMI0cfPbbKgEKLaiBNU3HenrmDtQoXGDa7xOC2N1lsUyRHrSubFENFY\n",
       "ZwSShgghI5lsMjTIFq7udxbOqXaEzc9IQjpXzQAAAJ5BnoZFESwQ/wAAvuqaHF0hT4ZBHschLcdM\n",
       "H1Bvgi2ai0lF6f3nmlsKR3/GIH1AojpvWML2Nm1BQJGzASPh/jdUn3uwacOKkpdhojvjW+O13s3H\n",
       "qBA79bTd3H05GnY8RMev6LlE2AfsbvGD0T8xAnbYmdEM9UtT4iLbrzqA+95WdIzkgAkOee4UvzUu\n",
       "JZ4tNXIYAFzNXQBh2kj2jBb3QQAAAB0BnqV0Q/8AAAMBRoM58D8uHA9KDvYidE9zqvADKwAAAHkB\n",
       "nqdqQ/8AAAMAd/s/CiIYAPzmR/GhT+880thQG/4xA+oFCfruPzCc95oVFOHFiOzjKla5UMXOXh+p\n",
       "+mxkARtX6KhAf5xv9Vicun2SzEw8BkyT4O/ZGvrlLY9n9KH7T4bAASELI9o847V624up7DseK5vS\n",
       "2p3i6sCwAAABSUGaqUmoQWyZTAh///6plgAAAwFb84L4ALRUt0/8v4vJiJyan11Ghq8PKranVyEp\n",
       "GbUSCMfmDQgiGZk7PY8hW4rTXfkJGEPv/d/uIoPiivDCXFiZiY8C4HwaCQZ8LnJ1DdChMEg4dGQI\n",
       "If4fut1MrJZI0TEBDhgDXTWK6VnJeH6kdLVvoOBGAaPscrWkuZci0ji2JdJHyGLQG6qMzW0bw/MX\n",
       "RyjG8WwpQ0fn39cy+YNn7OOYrMU4FAdCB+ThKgZA3Jy6gUNXikMd1aIVBruXFK+0wnE12daePX4h\n",
       "NJ3RS25hkEvrOrK1IuZT98w2zJHsScslSknlY/EjVgzDlbI4vRlM8vtirqFT3YgAAy5C10KSGnk0\n",
       "8wGD2qvXgrzQe7Lxz19oyCNuUV4QZcez9cfLUwr4DXr7AP0dtPrdWx6oGDUS0BaMmXP0HhIuAAAD\n",
       "p21vb3YAAABsbXZoZAAAAAAAAAAAAAAAAAAAA+gAAAfQAAEAAAEAAAAAAAAAAAAAAAABAAAAAAAA\n",
       "AAAAAAAAAAAAAQAAAAAAAAAAAAAAAAAAQAAAAAAAAAAAAAAAAAAAAAAAAAAAAAAAAAAAAAAAAAIA\n",
       "AALRdHJhawAAAFx0a2hkAAAAAwAAAAAAAAAAAAAAAQAAAAAAAAfQAAAAAAAAAAAAAAAAAAAAAAAB\n",
       "AAAAAAAAAAAAAAAAAAAAAQAAAAAAAAAAAAAAAAAAQAAAAAJYAAABkAAAAAAAJGVkdHMAAAAcZWxz\n",
       "dAAAAAAAAAABAAAH0AAAEAAAAQAAAAACSW1kaWEAAAAgbWRoZAAAAAAAAAAAAAAAAAAAKAAAAFAA\n",
       "VcQAAAAAAC1oZGxyAAAAAAAAAAB2aWRlAAAAAAAAAAAAAAAAVmlkZW9IYW5kbGVyAAAAAfRtaW5m\n",
       "AAAAFHZtaGQAAAABAAAAAAAAAAAAAAAkZGluZgAAABxkcmVmAAAAAAAAAAEAAAAMdXJsIAAAAAEA\n",
       "AAG0c3RibAAAALRzdHNkAAAAAAAAAAEAAACkYXZjMQAAAAAAAAABAAAAAAAAAAAAAAAAAAAAAAJY\n",
       "AZAASAAAAEgAAAAAAAAAAQAAAAAAAAAAAAAAAAAAAAAAAAAAAAAAAAAAAAAAAAAAABj//wAAADJh\n",
       "dmNDAWQAFv/hABlnZAAWrNlAmDPl4QAAAwABAAADAAoPFi2WAQAGaOvjyyLAAAAAHHV1aWRraEDy\n",
       "XyRPxbo5pRvPAyPzAAAAAAAAABhzdHRzAAAAAAAAAAEAAAAKAAAIAAAAABRzdHNzAAAAAAAAAAEA\n",
       "AAABAAAAYGN0dHMAAAAAAAAACgAAAAEAABAAAAAAAQAAKAAAAAABAAAQAAAAAAEAAAAAAAAAAQAA\n",
       "CAAAAAABAAAoAAAAAAEAABAAAAAAAQAAAAAAAAABAAAIAAAAAAEAABAAAAAAHHN0c2MAAAAAAAAA\n",
       "AQAAAAEAAAAKAAAAAQAAADxzdHN6AAAAAAAAAAAAAAAKAAAMSAAAAVoAAAC0AAAAPQAAAFYAAAGB\n",
       "AAAAogAAACEAAAB9AAABTQAAABRzdGNvAAAAAAAAAAEAAAAsAAAAYnVkdGEAAABabWV0YQAAAAAA\n",
       "AAAhaGRscgAAAAAAAAAAbWRpcmFwcGwAAAAAAAAAAAAAAAAtaWxzdAAAACWpdG9vAAAAHWRhdGEA\n",
       "AAABAAAAAExhdmY1Ny44My4xMDA=\n",
       "\">\n",
       "  Your browser does not support the video tag.\n",
       "</video>"
      ],
      "text/plain": [
       "<IPython.core.display.HTML object>"
      ]
     },
     "execution_count": 93,
     "metadata": {},
     "output_type": "execute_result"
    },
    {
     "data": {
      "text/plain": [
       "<matplotlib.figure.Figure at 0x7f43b5622cc0>"
      ]
     },
     "metadata": {},
     "output_type": "display_data"
    }
   ],
   "source": [
    "# You should visulise some trajectories from a few different initial points within the environment (e.g. [23,23], [23,5], [6,4],[6,23])\n",
    "submarine.init_state = [5,23] #[23,2] [4,23]\n",
    "submarine.reset()\n",
    "state = submarine.init_state\n",
    "indx = 0\n",
    "while state not in submarine.goal_states:\n",
    "    submarine.step(policy[tuple(state)])\n",
    "    fig = submarine.render()\n",
    "    state = submarine.state\n",
    "    \n",
    "    if indx > 1000:\n",
    "        print(\"Max Iteration Limit Hit!\")\n",
    "        break\n",
    "    indx += 1\n",
    "anime = submarine._get_video(interval=200, gif_path='value_iter.mp4').to_html5_video()\n",
    "HTML(anime)\n"
   ]
  },
  {
   "cell_type": "code",
   "execution_count": 96,
   "metadata": {},
   "outputs": [
    {
     "name": "stderr",
     "output_type": "stream",
     "text": [
      "/opt/conda/lib/python3.6/site-packages/matplotlib/figure.py:418: UserWarning: matplotlib is currently using a non-GUI backend, so cannot show the figure\n",
      "  \"matplotlib is currently using a non-GUI backend, \"\n"
     ]
    },
    {
     "data": {
      "text/html": [
       "<video width=\"600\" height=\"400\" controls autoplay loop>\n",
       "  <source type=\"video/mp4\" src=\"data:video/mp4;base64,AAAAHGZ0eXBNNFYgAAACAGlzb21pc28yYXZjMQAAAAhmcmVlAAA7LW1kYXQAAAKsBgX//6jcRem9\n",
       "5tlIt5Ys2CDZI+7veDI2NCAtIGNvcmUgMTM4IHIyMCA0MGU3MmRhIC0gSC4yNjQvTVBFRy00IEFW\n",
       "QyBjb2RlYyAtIENvcHlsZWZ0IDIwMDMtMjAxMyAtIGh0dHA6Ly93d3cudmlkZW9sYW4ub3JnL3gy\n",
       "NjQuaHRtbCAtIG9wdGlvbnM6IGNhYmFjPTEgcmVmPTMgZGVibG9jaz0xOjA6MCBhbmFseXNlPTB4\n",
       "MzoweDExMyBtZT1oZXggc3VibWU9NyBwc3k9MSBwc3lfcmQ9MS4wMDowLjAwIG1peGVkX3JlZj0x\n",
       "IG1lX3JhbmdlPTE2IGNocm9tYV9tZT0xIHRyZWxsaXM9MSA4eDhkY3Q9MSBjcW09MCBkZWFkem9u\n",
       "ZT0yMSwxMSBmYXN0X3Bza2lwPTEgY2hyb21hX3FwX29mZnNldD0tMiB0aHJlYWRzPTk2IGxvb2th\n",
       "aGVhZF90aHJlYWRzPTMgc2xpY2VkX3RocmVhZHM9MCBucj0wIGRlY2ltYXRlPTEgaW50ZXJsYWNl\n",
       "ZD0wIGJsdXJheV9jb21wYXQ9MCBjb25zdHJhaW5lZF9pbnRyYT0wIGJmcmFtZXM9MyBiX3B5cmFt\n",
       "aWQ9MiBiX2FkYXB0PTEgYl9iaWFzPTAgZGlyZWN0PTEgd2VpZ2h0Yj0xIG9wZW5fZ29wPTAgd2Vp\n",
       "Z2h0cD0yIGtleWludD0yNTAga2V5aW50X21pbj01IHNjZW5lY3V0PTQwIGludHJhX3JlZnJlc2g9\n",
       "MCByY19sb29rYWhlYWQ9NDAgcmM9Y3JmIG1idHJlZT0xIGNyZj0yMy4wIHFjb21wPTAuNjAgcXBt\n",
       "aW49MCBxcG1heD02OSBxcHN0ZXA9NCBpcF9yYXRpbz0xLjQwIGFxPTE6MS4wMACAAAAJkGWIhAAS\n",
       "//73rd+BTcBA7Wu6Vzi0y6uUND1R9pSmeLZIAAADAAADAABSFy7znExAMRiOAAADA04AV8JeHwRf\n",
       "4Qbt2E2lIMum0vOWY6P9nqLIE+WfH99Lxhc85TtJD9SRebxTZ18sGd4gGNe6SajM5Kp07RbbJy+V\n",
       "vI3EkLzjsXoVKe3TAgakIrsMUxygSlZb7fY447b6z6+uNtTiolQGvBjgUJsL/xXC72/VZLgTI5vm\n",
       "V/ZZCM5yk/9nz9AlZHAYACv3IxYFaKNszWSUAXKmCg+Tp+JzhKAAsb0TPn31kpAETiUHxeYJcR3s\n",
       "vnkZ0TW4gbNFFHEeYoTa/5UEvnz+zJaCRzBeFh/ZbQvy7pV5NOrijHbzRu/yZEUA0GWwIdCG5eV7\n",
       "ls2xUIgeJMOeFbAoU8n6mqCPn0VUU1+tUeIP84Cr+n20vkvHM9pcT0hAffOCaBBafGUpNFV3fz5n\n",
       "MKzBMdXFJHaesd0LMkl158ahGJ4qfuPwWbFqtqAmdUL6vBP7fmSw9ncfiJNU/Yxz1xxgAx2Vj+E5\n",
       "wFJrfoC4xR3jXaDvI1dvcHcXhv4O9HZeIUjLNeux7GiuNFENIoShyrpXDTiML32rjkQkY1CfEC8s\n",
       "OGTrjvNA4FYDqq5CZF7wvbPpj28MTr79Zv5J0PnY4+WZM+aQx/5ehADb2AZoX5LQGF0v4kykcQ7r\n",
       "bb+mXZodpzddxogCvpvwGpi5dmGGAqHH/sLcXBkFGQrjpOmkaxKCIggk2LpOJjs3gRY8Ti/x3bBK\n",
       "9S4djd/MfZDrmljI8SShIaFq/oLyT3B9DOSMYu+lrSgfa+4QnIRIouHxZ1IJY9hdF836r5/DcNbz\n",
       "Pb+XoZRmcSCOqRrUaZLABqFEodz0NwrhpSF1/Cf4yid2kEkaKXfZRduecGJefMGN12HqjQmP7Nym\n",
       "wwNfNPyH1T/REvARaYkjE3ilQs753N21GcuT+yBypjxQ+MdoENP3AGnbXln1emYMhxvjV+NkHF5A\n",
       "u40rszl4Sep9VCVpgZpNtHaRuQiOgDXdBCQWXdGzjv3B3OkWzur5RWYcX5FXYhcM5HgtG3N0+Y0A\n",
       "yp928Rg2p7kElqrdwdYBNZ1yE+YpE7UB8wvrQtvYleRA9881PcXxdCETji3ZnACSyXGqWK7Gtmp6\n",
       "LFK7aQ35S5Bxh5DUmUpUhjQ2tP17/g5+mCzmly/UbeXMhk7n76pflUSfBeIBjQRUBSsNLKMBXfBl\n",
       "SJsgnG05kD4uWKsATPk2wYVY8ArVhiTe6xUKM8KHBIdlcyBxNXSSvB6EyTKIqKr72+SHxZnbcfLG\n",
       "OtLUJw1Mc6eUHstXfXlmKRQcHUzOXA9Uc9+o0T62SDl9RPWbn/3GmBJ4ruBmf5Ie+YmuJSw6Lmbc\n",
       "JvzfM/pTjkkAj+ThU4S0gjhDaDxXYDIXYvO/vfLKOWUdZqe192DJuW84keAw5LqNPf8mqOU/D6rE\n",
       "g/Hyoem6733aZvVPdtaXcxxPgPf+qp3TQrI5MXwPDksSWctIUCmzstWGrmiUZPETpxZVaADoxvvr\n",
       "lEPilSIORw1wgPCKG0FYtTsvyJtpBPa4TFbs10LWq1PVXWjbxMMmpWki457KmYiosrwK11Wo1q84\n",
       "RjZeOGExBbkSymlQ2hOdFsw3aH8HuwIv2lsngdTCM/HUadwuh4NnI38O+CxVdCsBA/MvpHyPrqm5\n",
       "iYS+Gmqm+BKIbnV0IFLO2ocz+4llybP7pP0vjgZhfqDKvA04mzFFh4RBAuBXxB14hq42nl7NHM3Y\n",
       "6Ktuv7431Uw0MCnPG+keJCAoOp0a2Z9prNQv03/dPppK2vHgoKoB3848kVr0WHmi8vMW2MlvfYf6\n",
       "3FR9U2r1HeORiZAW6IkOvOMKP9Ct9n9aEPGe811t9DXIggp09R1ezPu+DAVceqq6pHDRMo903vhw\n",
       "poYDbdC7Aa1s7V7HfYi5sU0tj+zMaChHPxLeSrYUUpQIbGsBLN/7qoKRFv5DQheT4FWqNMlKXTAi\n",
       "evmlJxS8LxETS47dDM64ZZWzyRqrmEIUcqbBm+8D2kmURv02N7JjJaugc/EA3ko7123HgTfvFJ/J\n",
       "RQYgEpqMLNjxiX6BIKn+zoCydDGJM/a22ds/jUkFpu1831cntSCWTxwX43VCcZ2mWZ6ldNumWhfz\n",
       "V4hjDgJiGC9h8nxbZUTdr3oVb5a4bxbmOiq6Zm5k10SDBkkW71iWHWSbdXSyHgOfg7Rk0EkQdEeh\n",
       "gIfuodQsktDi0PPtKIV99yP42HtXXrBqOwU/SPpkmqiw/CWSjoPx2Uh61KGnIZSCGRfznyemq/pV\n",
       "48zh4uZp7HzwEAOZnuxGfd4QCcGRvEEOQ/vvqArTBeBFKswMHs3q5a6enfToZDYv4bQ94V+zhNC2\n",
       "53dCLcmCcq6QsaYVBs4B9MgcthYI9VY4CLXgaQhFvoyRYtT7cRUj2yL/yi3FPbrXxDoJcbgIL68G\n",
       "d3QfsiVtamTzTQw2oMA7QcX9EoEMlQpjmOfS1Krb5y/jecz3tR9lotOpbdsEoFUivzFnXXTwBRLB\n",
       "xMzIaU4OUC8EYySMGo54FZh+aYPXusO38TdwvPXIg8fDZx5LCPpOVbwovACKujJ7IqdcPj0nR4Bw\n",
       "os6c7wH5WukGVxuV6ei/hgotfEUhZZIDtTNs6VC7m+VNPhKsrYce7FxiPH3WF0yO2NGtgH3cQErv\n",
       "hkH3rsB/Ys2Kdwmm6MXi6LgDYTP+ixzlBi3F2BZykgNbCeOQRj46RanEPkuoH47Q1jy7zPeF7L4t\n",
       "uM5zakkAoVu9n8kx1q3i5ob9xgyklP7mLXJ1VobumVH2NpsHwSLxH/VXfIbvcQhMvOLTs7T2b7UT\n",
       "85M8e0WGyard/qMNnoW8yIXrSPFJs5BaBZM0kLN63/YOnQ372kJxvh4PW3pmeI8lVxAlW25usrlU\n",
       "tiDIkWVedleWopmFqGCxMx3i7N3f45NODhmfemfDwEfHsWuR/G+SkjLH5ltqJrQKVb0jp0hF4mDt\n",
       "k0fAN2tp3T/4FXuUxtTJINpgI8sb4nREF3gLl7SRyInt5pKy3IIi8+KjxqqaZL0RDf3b60Om1Wng\n",
       "U64WYcf1WcHEZLCUnilLknl8FxDJspl6dxwjbdQCAAICumCKxv708AqHeL3GQffDCk//7QThFUSV\n",
       "Kvv4O19mpUAs6qYtx8oE/la5xhCaU8ZTPC3AfRk7260ql93WN/RRzm0pajZoJnM/L7mAO6gaZ/v2\n",
       "dogyIBX0khjBhQCzfC7if4IMifYSy3xPBdTgaRUT3Pai83QqEAAAAwAAAwAAAwAk4QAAAL5BmiFs\n",
       "QS/+tSqAANlks0FBPafVxeITz6XGXsnx54KH5S1Xxv7Qn53cVbq38SM95xKu0GRGU0T9bCvXEBf9\n",
       "+bwbx44v+hPCo3+VpRkf0ZgWrg4ck/yQrZtIrOa8vsC5L+h6AEZtgw2vVNLxyL0KWP4O6U/ukyWX\n",
       "GDoW+W0DdaupSdxEUxLGmpvU6uuMKkmyHB9kxfTZ11I4kk01fFz+AJVXdbTUekpcnbRztZSa6ibx\n",
       "NrwZZdoKAh/mzMqZ6AEfAAAAYUGaQjwhkymEEv/+tSqAAAAxnzJ3AZD0ogBqfIJLVox2/8/KXLI3\n",
       "rf+6/tGIuwzFUrgIX7/Zp7KtGKAXzVtYLn8ORzNJRIiWI4GttzO7HP/7eus9leTnfW/kYDnrNOBK\n",
       "ZKEAAAKBQZpkSeEPJlMFPBL//rUqgABydx/8gv9cAEQqPiNXpCYxf4Ws7bb+c4T+CW4rVVpzRwpM\n",
       "+qlrh+spNWqcCENoL/0/Du4JKObD3U31rbRVkJgraJMNyr+qjG89v4Gen+KO8DKy8chWnbLPDodg\n",
       "5gAbdJQnlaX72GGGE56ctFOPijD3yO2YYj5aRknCmdFJisysytCPzX1PgafQBgr64a3X6DdFxWTs\n",
       "GaoLiUA9cXgWz/3W4AL5AN+cJTu359AxNUiboMcrqOKrn+T6rEiiIdqnfbAnwxbS8ROhrEY7vlM5\n",
       "es+Ymod2qcoVAn7Od1SIUwTMKwRTlXp4nMuFIkMgTdwXuLjPSk1B+osMJ3RK3f1CuqxzQBHHz4Ii\n",
       "kC1tGazsOBjbJrGLbAr/wlvhImpKuM8WHeYZGCxhlP4pLBuq8aYcFttVR2337lvsNCR2SkfLiGEV\n",
       "CCl8iI5FKEjOkVviH9m6pdBIKhrj26SwR0vA3Ty6/xE/W74yVbX8b6Z1qLE9ooI5RlrjepEIA8+F\n",
       "fEjgdujrcWK3JAHl3CcNQ7okU/OoilB+M/LfzvK7w2cg7wbJ7KISoFKaJO5sP3b6w36ca47pil8T\n",
       "PlnvOnguDZxPQOUR3UWb5UMEbp6RIAUpYMO7oi2G8e9vRj4W/MDV3CSKyRGbQ01AAwAn+LNYastK\n",
       "quihbP2W5PCX5UjDrFEpw+TaCXgbQimyrtQdavJwvYwd3WHbYndAlibAE9H04KW7p4OS4HLFKMgN\n",
       "t6FNGg7HAAAJw1Vhzk1goerAww4CkRqaazT8kPAokJhpPhtoOQyFeBqhroJeikRMTM4s8NXDnH54\n",
       "8VIQUrg/cqYSG+b02TkffX5oAxYAAADqAZ6DakP/AAE9xL75FoAP6PZxvcCIyuREnZK7nYKmWSDl\n",
       "0amdGz1lMk8Hs0Em+g4OvOhGjmLrllG6abwemcORteq0JKkiebGv/iArljzQWWAyThqZRFftdD1l\n",
       "0eiMeYme3ZZPl/1kKe4lAaZgH2Q+37R2IBGSLrRDuNtUvaDZEIqswKyRqWibDC9mYfMemGmiwxXe\n",
       "cwBQ851oH73fgVtT6UygABHQ3g7kJbZ8/uY2pDFVhFtx7rpCjHm/t6qa8SlynBxl5utq2l5+z0Sz\n",
       "0lHMCbbuxtUImOLsEd2GI8r5eKJwd1GOq7zwo4LbAAABs0GahUnhDyZTAgl//rUqgAByGct8jcAF\n",
       "Sp9ISXh81SnXv/71YktEi6y53/kq0fGVLD1/kb1W/1MNJRk7VXlWEp7uDH6dc0csm3vy0hvhI09b\n",
       "JDeZs10UhwO8PcKGn2rP4JiLQISxj/z8nN9n8gAMvKEZnbzaK1ZqAZGmRdBrQ1fhjsM/i+6+RsNE\n",
       "/QEPxOsPBCImKUoq7yun9NM64k6sbOcJK8D4seyFEvRCz4Z5UxxIbOV4i28bJfi3vIHeUrocydx0\n",
       "727jpnTlYjKC9mDsFGJZCEDcH3KjQOI6X1dQo9IGPgnYziC2qcqmT7NAfEaI/Beaoi3lVIUG5C6x\n",
       "mEhlCvz7ISecCx3WX1+zrprMeOJT+U728H31CF4OEinc0vJXS0s8Ss7W+qyFyWh+ARGkxQ5Hk4j+\n",
       "v/81hY5HB+7KjI/06wqKwgMGqIDfQGL2UofakG0dHBW+yOpNGoad4shbZRYhirs5r5V0+rjarGSx\n",
       "7B0KryyYEhYbgzpQP9MRjwdE5safkhH1eDYBnzXgagVDHeku2s5EmzvyfHwJIGjpIvfF8NFY5EjG\n",
       "8EWtOeVKGsfOxUrJuQAAAeJBmqhJ4Q8mUwIJf/61KoAAcdIvb1T110ueA9IM+Cdyp5xGX8tGYlgp\n",
       "0IcXO7VXk6sgvcTEBGHDQsVAI1gVSv1ISqZlhkA0pmP+fKXLI35fTL5FY1POat2EukxFP/YHfxgH\n",
       "L7eQUwarkxPedDziCrqXM6IdC+kTZpt6AI1XQ8TY+e1UBP6RESN7Q06/go4HFItgozvRC5Np+0qA\n",
       "9p/3GHdwcK8Pw+jSaMmwzPpTXyisXk9AGuaEukhbGdPQHKh18rYTjKUbDOStK8adlW6qY20WqZld\n",
       "x6AKiHwLDtZhqd/aGHO0HbNhonXPyclHQqjXMBWpM3SWXyS40WISfxXG4Md6o2SuAB2uLVMrtUTc\n",
       "gTdFco9JW1uW5zXPjhSgxKhYu+XtQJijPg8B0Mamlz1K1I9jVa3Rkki2TJzOIGK/gzYsUgthE5Hd\n",
       "Y0Kw0dYABd3v54KI+hSyl1tIn68+bshesFCxqYYa33QcxrENobOF04TfHhMyTXhGo24I+VcAaU6O\n",
       "leJuN5EcfhV7OYsOl1sQzlXwlTvlPbe56AHuBma0alDz3mUzyvtPHXExDb8zQDlVTY7imGQiTuLP\n",
       "KByMLx9VroZ9gABB+kqfGda144qmQeUJI/495pplE/C0AI1fw6Rs7QbBQQAAAKRBnsdCH/8AAT4n\n",
       "PsQFhp0Hd3S6sSDN0ayHc2sQ3/yqABOMuFgOFu+2MzlM8UX9DJ289eJ1vKn+RTRqaYPOqoqb1HK1\n",
       "CnvtJCdWu3dWUFRNnlkRae+8iDiJwhPUQbqjrLcxH/3eT2niYUlNBdwUCaQ4oVur3flvfXJbsidq\n",
       "bL8zDqZwnBbOTWxHZSHrxn9FXrvhIWuP//vGDf/jciJPKIe2cmArYQAAAMwBnuZpEP8AAT4W3RAk\n",
       "G2I32L2WspBsiMxyWPXM2EgAhTfWXLUV/vctsEZ0BqYWFvtlob2Kh08zHlWJbYvKKCelA89RVVmy\n",
       "bK5moPdfn8hh9BDz73HlT7Q2yFDCIcFgtIARuCm5nrIKAt1TlWXTwX+oqcLWvKtyzqgFFJrbx2Gv\n",
       "ozz+KeyDknd/dL+/DN3d5cgxgT/iqPTBmy3lNJQ1Cej2xauhYsn7E55Q4T7/RNqZJSuclcIwVm7D\n",
       "YBU1NsiDYyXBGrhcjCbI/C0tBnwAAAEqQZrpSahBaJlMCCX//rUqgAAACAIgA4BZZMf8+UwUT3rX\n",
       "GbhoxqedS69kiivTnHFgboYe0hskHOKAudqAo7y7gM4sCxNuCrITEHCm+qaXDvYdGKJXkUdvZZ/X\n",
       "sITu0MNo5RN1FUZPT21FD8cGahs86iDFQLRjthYvFkYRXIsifegqriMRPx//f0Y+fB5sWZu002eh\n",
       "sTKvHN/A2CtNDboFCUzbsCpTER/bfGtc9GzQYaWo7FSEV4usKWy8BvKTWbh93ohMi9MNHPyA9ii1\n",
       "46z4QzavxBQH/zf26LzFHS1iN946EH+1mgC6auUSUQXA71gnjlzVGNFBjUzy76RYO64tR3SVP/5J\n",
       "C4N1VPMnUGRO5xC4TrKVcd8NYsDCBV/+TCYcXLFwk7R/enCBQAAAAW9BmwpJ4QpSZTAgl//+tSqA\n",
       "AHJ3H/yHGgwAtrcFHQ7a7yv12+wntjJHdiOAYHr8Mrf3wOSf1rc2iKmwVs93jg6uyjqzXL5D4dZG\n",
       "LJTyiK7A3RKQTjjQmx0ezv4rhEG5eGFOXjCP7IH6Ztsr+7YGB/sJ8Yd8C+NcrBo4X0zGzMn+d1W3\n",
       "ouf/94wih0k4Bgiml+c5gXATg7K9+XzwNJxGd2KLbRzv0O5+SJrrNa+88OCA/rYzmBns40uO4o2p\n",
       "FH0Gotd9nafs5HT1gsA/zHDKgib3vTCg/fhrQxIMtf9MPS/jlzXJk29eJmJ0p5kIl2AfMeRPOjsQ\n",
       "uTL2XunUzXo5Bxj+MMdeRqNw1MvHrDiOzvCI3LrmP1cyg64x4JS6CfPRrkD1QZSpsZ4DpAlOeOF4\n",
       "INeM8It3M07ZSszc7qTZ8qY3gWRxav9D2b6Xa2yg0TnYKftb96/0rzqAL46boJGrET3zwXMIsJ/j\n",
       "imEPDRM1OFbBAAABPUGbK0nhDomUwIJf/rUqgABx4n4sAJWgQrO+MaY1I7mvLWyL3/8hxdJ0ZVYl\n",
       "nZt8h5Ad2FhzDK6GCbqjUcnhdwVIKN9hZYBzaPTFZgW/+AMAhAH81iAocG/UnZ/f8X/VAFNwGoYJ\n",
       "qQ0+aSINOShktsx94+f/w4CAph+b1S02i3N3GE1egu5Oa3rOKEPtCdJMcnplFZ7ZhRwrnSdtOpKN\n",
       "BBsRAnh5roGhc5I3ieWCbCi0PGHUFBaBTv/ImXNmHvjcfacTKt1w9k7wcXHN108tsxsF7NVOiHDo\n",
       "q/aDbW7S0YDvqljwTHMwjih+eKn6PFyV0MPKnkGs1GZL3LJHWp8KwBENOr0AgBPWdCGZwAKr5hde\n",
       "hmADt66gYDcNV+if4ALtuPxpG+7Dl+DhB8XUzM+9WGhUWJVI4/WHDwgPLQEPAAAAu0GbTEnhDyZT\n",
       "Agl//rUqgABvvnWOQxCy3n5ABOlEbtgbFv97XRq5vCWBHlnneM+LpUfRlqaM0mlKsodblNSVZlig\n",
       "5uV8ZzOcr7T4s/AthS6Y83ohh16deSxAibi15QEQT+Hgjjz6GriknVAASebkdw9lf9nhwZTrftTK\n",
       "PV5KLvPn1A84b4/FjrAjQ89BN4Oxm0X3m84LpkAbTdlXR2iao2StBb1AjIJrliBcz5GFPPagOUFm\n",
       "IAF31aY8toAAAABNQZttSeEPJlMCCX/+tSqAAGej8pNsR6AB2YL7cnFOO/GqJeBNq3KY+gczTzOc\n",
       "oA4Y/pG7N4VdTy//nfbTolKDuRZ9IAdjhd9nwVogYEEAAAC2QZuOSeEPJlMCCX/+tSqAAHJ+ZOVj\n",
       "OCsjKf+R2j5AKC2nP3KYfWk0BrG9s5sL7avSV8yDLbZWG/wS1CNSNeym8/rJxJK9mQWkp/k0WpFT\n",
       "VeChBln3iH5vuBwykzuHNbvOcVdr3/wdzpY0ChnAEfekGc/RV5GL1SOeDAPAUje/xu9WlxpS0u1I\n",
       "KpwUFwZBuKgkP1/e8iNoKIkbCe/QTIuPsR6C+qGawPFxQPemTm/1/tJxVuMA6oEAAACsQZuvSeEP\n",
       "JlMCCX/+tSqAAGfl81EVAFABfbmxFqkSOEZ0k7WkwQr/WSsomPPHsfxyJF+yjwTCV1ZYnoO1tQxN\n",
       "DDa4djHCqL12tpu97muORLYPRmGbB96cOEzH5lW2HRLw2/f2eamPqPZvaRUqRU727H0cgdXtx5mA\n",
       "BKgm6xpBMroKb8cR4tkczV/KqYt4/epOTUMxL3E/ktbt/8Qe5T09dPwFFser4zRj9TBxwQAAARRB\n",
       "m9BJ4Q8mUwIJf/61KoAAZ7h+LAF7gVqSYZDti325sfRvZm+s31UF3PmtXfQIoUULSfZ/9nBmvUTT\n",
       "PLuJTQDKynI9stx9xwKCkNi36i+7sQajUS5glDbvKMIKHv/KrrAHI6f/+ckCJXPc1TARlVQ4Sxny\n",
       "Ww8GwhlSUt71USZD5oaJwMo4/3H///xABLOQbpZYijzrdEKir2VqgFEI9Va5tiITIAQtZjoAfz/D\n",
       "uAXS8ym9gJRoS/M7z27hn3dFj/RY7tIqcqwf/mf0aoHkQlOXZZGMr2Tjzgce0UoVk53tWD14PUF+\n",
       "juegnhCo6k46Xsm+GF0cV/K6YybNvkbYqr4Wn87QkcwngMBHjfawB9Z6T980yGAAAACsQZvxSeEP\n",
       "JlMCCX/+tSqAAADeUHDBrG292ThdrtxchWvQgspmM3l6tMRYkSAQKACUU4LltP/opJp6G0C+wT5B\n",
       "LqbUNv6DhTryXDvuO8HRPSclb4GYlXnIg//A09U4egmG2GfPWntuo+unQuL2p//w+Y7MrOfzVOIT\n",
       "2jDahYFrXBZR/SnPrvADG2PBdTPD+PHwuC+EALLW0wZP+/JfY+lXDfYAn5IXz5bQBJEt6AAAALJB\n",
       "mhJJ4Q8mUwIJf/61KoAAAN5Qaw2fcQVuHQqQAKv8qImjQ3Hu1QJJ8P+q7/viIVuNl/P4eNf45l5q\n",
       "xHYJF2JZ9Qs5kPZL0If/4cZGhx73zOvo7yLatJjUSIN7NAC1ezuut1FZNQ/NNyzTe8Z3zPyLc8pq\n",
       "WKTCQFtKBhIL82urXWi5n7ipGKRL54xd1Op/okFo5ri2cJRvFM9Hvd9HuPP/Ig8EPWdyU1vI+ost\n",
       "f6LPzMyRAAAA8EGaM0nhDyZTAgl//rUqgAAA3lBwwaxtvdk4Yfc55CHSuzXCOlsVYRgtJhaqz7Vb\n",
       "v7w4o2PoNbhoUnIoz3GjPSO+KHf0m3HvV1kOiXiuafwQArAMiB+AkhDwLQt0+Kjo+CaVTxl4AnKn\n",
       "Bctp//2/N0jKR5rpudlARwCy/rmf/CYKTHe4rRxsryNZG48GB5l2ArF4jEkD9xN/VZXfxJCPJdBf\n",
       "u4XY3cDUUOau8o6bNT6Z3IQtfvgPDvjBpdVKGSzW/KLJUXCY+Ij4Df0ysoiLgQGXs/aWtDxoM4xA\n",
       "DTcdjxs0i6uV2y3+LnwmgGFYVpoDWgAAALdBmlRJ4Q8mUwIJf/61KoAAAIiCdAHsVKAPf1PkAu/R\n",
       "OT//IYYN2WBbuk5WLqx9Ke8TGA3gbn7GBvo8aX/m4aP5PSUHdxQ+qARfeLgIvDxAzCZv3HdbKc10\n",
       "u1kCjx17epOEMiftfUj+Oq0cx3oKMK7QNmGnVDtPGRDlmUq/9yit66a7At5nfoZuisryJAA6oV+Q\n",
       "y+4q699Z+/EirW3/dJQrs5hwiyorkcEMnlYeFEc4bb/8AASoHHAAAAG7QZp1SeEPJlMCCf/+tSqA\n",
       "AHJ3H/5BdNoAIhUku44tk44qM+VVN6eiqX6Bv4YmlomFnvbPm0tmUQLWqfiepzCRB/5hGRwDBNjs\n",
       "nrURU5Hej54o/kYqvf08rjxv+kEET59OESmdKQXcR5CtQUN9PFZrq++CHytaDS1sU8kv5s+cYCw+\n",
       "AgyDxz+4IOsL6AmgCYBAC4Tii4gxNQKWoqX3QVeJJHlV/bXj/g4Sti/3G5v09az9bQABxk380HJT\n",
       "Cs3WybtmkSwbRjMtPxkfYLd7TzdfO/Zbdjk1e4uRrX4Tx31U7EM1Y8zr7jIT91763l0/JbioFsdV\n",
       "kBclsYt92MkVboxDtjBHXp0fohOKVybeMdDqRNEefTK7isR9GjTquS1DH01HOg0CsT0H4TBNyMvy\n",
       "MrHl41KGwP/u8kjgsyXMb4roF1zobebFGks/syjanMawm6Gm2iRWHhTorycVm+S+jsujtDPPzDz5\n",
       "DstqYffk13j6IPOeJDm50wr+IvoT9MuZmgRPOl9exv/XWIdn0/kaxybrxk4gCYGqBuknW3nQLpSQ\n",
       "vSHDN0iW2kvc2OYGo6eAkEQv56nHBM0zxWbMOXEAAAFSQZqWSeEPJlMCCf/+tSqAAIA1fuuwXADj\n",
       "AwKDSCXwd8JraJ8lk46bQjBSFdNgLRA84c0QHsFfgOm+xoqK6Oi2N3I6X/AKUO8yQh9awRO8WVZq\n",
       "j6/RC47/po4AGMsGvHdN6ZEL78uCetmibU4Epbn6CL0G/6ymwoWmLs1/4bNADIjHgTlhY8ybi5nY\n",
       "GitDFu9HBYZkv/u80luy36MekFujIv/zVW9SUFaF/z6wew1P8EIK60jPRgSOnrgbtmeXcKHGaVNy\n",
       "pJSO6hh3T7WKWvrKjPb8KAnIHBBcV9VCsy6JIxTjxJf/7ii/jjmWHgdNkW/5d4+npt+rJm475ezi\n",
       "ZgXlo/dYzIlQI9sDGPrpQOxD2mlPYAwiPeXwHo0/XBmTyH+ZYBIK2rN9uX7TGLyXU0+xf8hzlNpu\n",
       "EKGuS/lr8Ouci6tC8YH3Yl/aqH/1QTk+2AtQETAAAAHdQZq6SeEPJlMCCf/+tSqAAIAlgTV//qv4\n",
       "yLBzIAA5wUZVuLanSkuV7GZTRUiTXJGu+sv+uLzoQnRNB+enPl2AkDPR2yNSHyAO8DUOjvD81tVX\n",
       "UAFkLpRUCOILyB34dhDwC7Hrn+0o4O70j1Yf8UDAH6WDzP8G3LhYLm3XdCf/NwkJSFOq5dgX07dC\n",
       "T/RhNGwYkEE47ZTy08KwvBD3S38nAKtLo2/naj6ZbvXKs/hur3JHxbNwqLFNSCoKQ6v8z+5ylRe4\n",
       "+YZcykPRh6qMy/Avv+A3yPtc6yepDmf9g4/zcHYseKfYNblIZsRnurOPRs4nEnCUGYG/iKZ5IGiE\n",
       "fnfXY044puMjt+2IJiKwMjdZIcLqbUepRJLVLcN9VkZnc/f//cLMFu1A7zpkLH559CvsUgp+D13/\n",
       "t97/b8qc4QLH0cFx5pCaA75dIxN+CWq9Lo4csvgs1PyzLboPup9nnyu386iv2lbJH3CzdTUQyzES\n",
       "BPgBLtVWM7rQCIAXjFALFjXGftcL27OeDxAfH+lGcCVWyQFs/VAXdtupYPIzutcXv7+JttOTrlVd\n",
       "OIP6aApA/Qn5yXRURFi9Js+F1IOy7jt95x6G4RLW7zTYQqgVfw6yJxjiHISzRfwv2vq9HPmBAAAB\n",
       "dkGe2EURPBD/AACzfIju+LgA4kMU9LNZh9p7NglDIMJIo2xV11OcGf5g5wXUJ1KcS4j8rbHC9mbO\n",
       "AAzrZPs7p2D0h9UAR4PhKWCd8BEax+U+k668y5MvIGDDPi0dJoA6B1C51CLTwuu9VS0nKSB/kxU/\n",
       "xBMGMgelh3XDWQEJ9hkt19ESUSBJBm4pkDeb7UWDQVOyArIOzOcDQzA7Z/fFlU/iEC/7G8ubvq0U\n",
       "7aLhd8KQ3Y8A74txzJnHq/s/+NhCB6ykQhClxzmJ82jr4eivkV6IUuvN0PgOdfExnCBjt4WUObTx\n",
       "ZByxrPiuZhSRmBdqID8L0SzHfik5Uune3qoNjEIJlBKB18rU5Jb5EbvF4UxAUn+jvyajpV+y0f6t\n",
       "N+U0olZYfswreLjBZY1oeM1sL+Ybj1+x4QrSieaSAQlNB4YsdbPeAgSEAGoYv/8hQu2TeA5XQARr\n",
       "WU8ZuCnGMYmOX4zT66q61/5lio3IsNpzFHeoUrG08sFtAAAAfwGe93RD/wABkcDxcAEzi1uzK4oJ\n",
       "HPByL5Fa9LVQ6kweUv/N9sgRGoNKO0cg7wtQhu9XGtJA1WVg4VZUkxiMA34AkYY7Iq9RbNJK12h3\n",
       "S9C4R2mF5lmRrcEVsQLxXM+Ux+/iAMTaKnBY3/mI9VeLGUsSM50DA+jq8aTcKoAAAZUAAADSAZ75\n",
       "akP/AAGR9uZ4AP0wd0t7igkduzTHtt+LKILK3LH6pYzmz3TXBUQuSKs1mZFQg07AcFQC/lSBZKPB\n",
       "+X8h5qYMCKZI6bp23WlvPDrCsiBv1jz3uPv+lsNYWdJozLHI5UNWs5Eqd+i1yrXBQ/8qBVj/3au+\n",
       "dXMJouZ6TEbBfE/Xns7q6sWTFsXVZSqBKCfyF71Fv7V4oNOoL2kXrBz3+CcVYFOV1Fi4fdR/ihY3\n",
       "ambAAkwaTqz4EJy7FqFy79SbjLyrJx9b0rOQ2UNI702W40KTAAACgUGa/kmoQWiZTAgn//61KoAA\n",
       "cn6Ch7NWzy8UrWwCauvgUw9vNzALXIrhOgyOZ+YeG85WFSwgnN7ZtwPaenb8ggjPVjsP6yq0YtOn\n",
       "BEqn5vJVlVHj66hZfqoqOmYeP7KB7MVexPTnjJ8LJTz5xxHJuXFb2SOYLSri1h6hjueEI52wG1GE\n",
       "pk6mFLnvpoxP+ngcJ/AZPTM7Ud3FqzDWv3V7kOHAd6hZrzetiKYujxggQzK2sr4t5peAlb1KTnkJ\n",
       "rngrkeks/t637C0YiR21WuluRICa9PFpDAYVaymCkWx/S4kkzcRq5aslsmeqUnJ5PeaXjhSeFhJm\n",
       "rUg1ihRRVuK4dSKpp/dkFiZHXUN2s++aGsZNM6LWp6eC3ING+mJ0c4JS4Q2Ho/rHcVzO9Z4QE0kx\n",
       "jiL9uD/VauvBXT/leynwMss7hWSuUM/nd+bn/kdri/i2JRaHFjuH3Qhqjvx45MFZxfFGs7rp3NZl\n",
       "sCZHDl/QYS0lNT8yvjaSN9LcSXvcoRZ0/1BsB+PquyQpDJHtHt2gxx5TiMEqKqo8hpREyioKSZfb\n",
       "k4PxqmfK9hTXkspQv3S2o34z/nOrzJ9v5C7lZH+8dJ3m5+Oh9fPC9U/iXKJnTmOyq83b+IKebJJI\n",
       "0gFa9KSU+KqwPVP0RhrU21A+1nx9nWw+mWi7elAduGgAFXFOw31aNJzKtHOpVbknYmE5hIEy1V+k\n",
       "faJyDXh9Ju6Af4SPKiyRP9FY/m2dIfL+1ibqZb9feZ/yMzJyw5zBvgcucCUT7dkLejEgLQpwv3pq\n",
       "9SDb/0ocM3s0jhBcPQxhpAa8t9TZpB7+SnEZ+59FZ+eaCqB51NqnOgGM4n+67P0xlvf2Qge0AAAB\n",
       "uUGfHEURLBD/AACOodqTy3m0hJE8MsrrYKeRiLW4HQXbWfUHgN5A5bIYlN8ooXINAAe72CQq/jzC\n",
       "xc2l23OyoqhoAWEGV0R/4n7/kfwRVngpLzZ3Og7pd4rQufOuTiL2YPxlmJcAys1OGAqsz0UE79Ux\n",
       "tP4Bl3KF6ufuRNatlXWIPVaWAt/Zuv/AiGjAInBbF38hQbejBfbmP8sgCKqz5AoMrQ1Jm5PZwNYI\n",
       "c4of4W4XtVju38f3TwPljphga+bdxZUBLQddCkBhbfobs5UCxkpeYUEkFpVgDKO1W4FZ5JrGMLHX\n",
       "xIfIzdPW1N9hkvsvqNYdD4rV+D+YN7f1c3KfFHvc7F1OAnQs4UlqOle/RdHoqKi0sJ69mnBgJTmo\n",
       "X2Fa4/0TNr7nAMdYSebokAHdk8TSSnRM8p1BABxNivTj6T+WUTM2d1pz4Q3jKMtOQ4nhS7dP4dDr\n",
       "6fTOaYp7z3LJ0/uwKgbtrhn/tHM8K3fuv+DsdO9fkD+G8mxz7w4dvy57iT25RFyQhyYYNh4TUAka\n",
       "Xmej//hfbhZLLRL1pM1PRcPCh1/W4HDI1E5fc1JOuKWnxV6FGPFbn4FWwQAAAG0Bnzt0Q/8AAT5S\n",
       "sqZOncyGdtJM76uVrdWWAAfHywU0Y/3EADrMu98Dnyg7U5/sUKfD4n4fKHQwZoBiztcY9Py4GZWj\n",
       "fhJeGa64Jz83/N00S30ePTSEWTfPRlwAAAMBFNj8Udv3mx1iosrymCZhAAAAeQGfPWpD/wAACW3n\n",
       "EJU7zVpvqp6CxiOUeqTjetEbusHSFhLAZlZqc+lkdvwEnRRX9BkdlBEIw3DOYzK+4Qy9gp4yUjS+\n",
       "F8bn2sDzKajColL4h8O9+rBYMAxziqLyJs/4WDdTPLHeMM2MDkllZkY0+PPOeS5oowYKhNwAAAIR\n",
       "QZsiSahBbJlMCCX//rUqgAADZ7cmIFC7EIgt05ArWKaibS6jXk2qK2hnF7pZTISyGkOBrPt1dO/+\n",
       "e2DrbiFUy5amRDB4L1/fiFinBmH47ov78Hhf/q6U0b4XoKc8QFY3EpKia0uPVWC0fS/Og92dNq7W\n",
       "KhQXUHJ6xVkYwsgUjGNOzUyxkxEh5yxA0hYDTqnoK2lEmrRZ6qR43sVJ0mxmD+JET8Jf4Dgrosss\n",
       "9LWy4rWSYcSh3HmlH09WvwScSO8OcjD6ShzrVl8Deb2SWZFjKZPcPYZcnzKuo2KiF7fcPr2sd0AH\n",
       "uTZfy+ZII3q7hR22KF4verCMD4iopj0T3Pt3bra1uCr34Q8oFwICFdB1ICH5DiGpvrHJOqv1XHWP\n",
       "PMPmpULhWIartf4JFNJDYajSDSRg2vCmwXOBd8Akon1q9YuewM/PgP4eWhIfldAJpkg6gQMYOL7x\n",
       "0dCaOWHEt0BuosuPAS819KpqDjoReSV5sUNBYYlNFMtvTjRrjtA2xfgFrqxLzqZwDItv1k1+u2Kr\n",
       "ddpRZFfeEZ+xzx4JrnnbrwMfqj06BSPuYWG9T6pbXeAPdo60RnjMDmBaGHOEcaer+YJDRKEDea37\n",
       "C1kVqxlA1hQGlMTLSUpsqrklLEQJuDU6STtV7e5NuqLO5woyVviBgj3OENoP/9wHn50plJoaeSXI\n",
       "csEukZzgDU7+jfJsaX8iswAAAWBBn0BFFSwQ/wAAfB9H9PDZBspAIrho8eZYVfhbPtbmjtJkt8Bk\n",
       "/ZSWAXyq4LmMHkaVHsgm215KlSB+zx3xua99GpRzC7zB+uM0TbDRjrw0IjQ+DaiGBJeJzvd3bzWF\n",
       "RVYBSkeIl91TOkxHtmiaMYnmsuiUniqU+EAek10kMxmj6mq9q0iABmsccKWG/W4XDifSZjbc5gQQ\n",
       "Oy0766Y1fyCYNN8dDvjxNKJnqRZd2ZKQ6z7cnDO3bzMZ1AbcSsfKkp70psrA7//i57Qh01WuSeYr\n",
       "EgNUeJe0WOB+kdPAm42fCOI4vYbZvkQ1zTZvA8+XfDqJ5+AOGQ8MaQI32kBXUgBNM/D5HP6SmtzL\n",
       "w/0aSI8naRQWupvdkf0Bu7HjkT2m5Q7fRZR4spZ+N8RHU/KBPuxuwe/hda0EdX5o5ORzpnmYiQye\n",
       "Vaa1CjT9NEBSf5+UhYHLGaRVCZNYUnu/azcbHJLhAAAAcwGff3RD/wAACW3nCIwaEelq2sIXJzcq\n",
       "xf3B5QPQJfxzE3aOSqde0D6/rtIwYy2eD6emGXpaXwm3J5OD/WM8MczxML+Cr04EhEHQIloZVeRA\n",
       "tau3wEWGppA99qKELaQX3uikQPzAvLa9JyDjA6sh9Jdu64AAAACmAZ9hakP/AAAI7ecIOLgDsjjr\n",
       "qQ66v0dEO3FoJZ7xkAMgJO0b3wtiEPgais2qbYdHoJ+lGCe8vUCHZ6HTFLHu+pU2vjY8yjwcvg1u\n",
       "dItYtbzHGcX/C37F7udFPbe1t8bpeVf/rmSxPzbXUxNWtYO1fMQApjUPek2/dhq+us0JTx0pPxFI\n",
       "02KJ2dt+aprzEAI/KRD5/Alpa83VfEsii/TSxPaSyiRDbwAAATlBm2NJqEFsmUwIJf/+tSqAAJDz\n",
       "V/CCp5ACWXHJB0526CgyH+6WFEroI5odrmDsaf3Q/m80YKT6RjrER+eySgyIKEhjCqINUhs+tIhx\n",
       "tpk3sDa//TWUtab9iQYoCXH4jH/NvbD/y01kGfAiUYu5NsSdEzzWDG+CnD+5z0vk86vI9CxPaLiU\n",
       "h/vM5SRmmyamQqPtjAExdAV1JGX2nz7RD4LpCIqq3YtXAr/OBF65Tghpy+vtJ0rnBV/YJQSS6NqQ\n",
       "02WEBCgSDRUiXItC8fLvT8PPY7Xo55eP84osMht0KUwuM/afItEiM+Y3+Tr6YxydeQ/zhCwSW0Ma\n",
       "1vR1UgwQe0Eh+naARtk7sUCdz6G6RtEEGjXJXlCIGkLn6EHVkeyILCv5/ELLZIpCvk8HEiI95vel\n",
       "wV7bfc9B4APyAAABCUGbhEnhClJlMCCX//61KoAAkDe4gAJqMzzZ6n8Qr13JHwOGMyGwmuh+SDWB\n",
       "AkMMacXvU4IdGbDG5xFP4ooB+3hSC5592pnRXoLpA4+Gn0pnyQaLddsg050LYR/P02FEu8iJi8zD\n",
       "Js+c0gWt5hmPlsStpyAcgUozUDhENWcuwWY1bFdk4icWieFPoRckoycOvoep/zZvvS5MVt9zE6T1\n",
       "2M4GsAZDxlFLhzdWiUvhnxqMbUxSHM+XmbHoU3uY0FcEPeMlsXslYObS2jeLrMK0l1rJhbGSIJLa\n",
       "Iz9KzrXW6POmKXKCpJWDYp7AKAFv+8ms8sdDWv/KpSjrhx4ojfKWinqe/C5juVaw5sEAAAH5QZuo\n",
       "SeEOiZTAgh/+qlUAASBjuaas/cl6ALQAUNDEVeQUJCYleVKBGTkwhBbGUt+AnPGNvJfxFZ4sABxu\n",
       "cd/8/gdCPeRPhrQaB50Yr5eBd6sR742GcdeOUMacCzx2nITsMnYS1ObB1nuZHnU4iZhuqQDt/zhJ\n",
       "x4Fmb6vYmjYVrXZTBnaXfEyeEI3zthNd8GP+CfNe9DwQ/K7vPRj2PBcNrxCTjowWgq6u6Q+Q8Bqp\n",
       "6u0IW/gCFGL5ZBk8VOoOw6yY6mCRKQTA0tI2a3fOdBGJbnN1i/zqYnkbbmicpIIFB2hmFnrjAm6x\n",
       "hmtqNiTxJkTS2lfdpZ52QDmICe7/dGcmb/PG8JiUJLBDxP3HHGpKy2cdrB8ke5ZGrKFGFWhajydM\n",
       "T50emcm3zjbk9OgwySjZOGFNknfO15u7JdkD7Efl5WkOyjuBGO4JxhZstM5lHZ0vy3mkTU9Omj23\n",
       "lmv32O2OCqiCGnl7tPsU8deEFGT9oKnDcTE5s0xiU0zRuQJfWaOGQ1Snv/8oe4jg0E48Du+8PMYk\n",
       "DavVmMXXij6/SxwX31krDQFKO5ZjSXpk62tgsuYr6fnFjC8M93asfILPi2yQPX6xu2A/eXGAfHQp\n",
       "SIXWfQt9QYApMLLycYGUGXZUN7wADPXG/gZ+row833KxQutWViO8MgaN2yBWwQAAAPZBn8ZFETwQ\n",
       "/wAAtXzpk8t557LpJV59WcR6JAQxX1+JhABLmpMowlLWn54Imh175by7gBB9jw+ie/ghfiDZMlzq\n",
       "kTZL/zFZooIrSIfmcnBX2YzNIpJHAHX3MNuCTZEn7zma0r8rZy6Yf+4Bz90QrwMDBDU4pRNa7vsG\n",
       "+LaGEzQmHG9WxwCBjr6htTJM4DwNKEx3YWjjGkQiBH8DeRFrCX/QDVgPSGiJleSPnXm+tJUvkyVl\n",
       "GZgfygOH8vYrLVxMx5eoA+Kp2dj9XiiH2prV8B0tCZR54/zEKjn2sBCH5JqCU+6q+g/js+K3iA5o\n",
       "qf89969BGIkggXcAAACcAZ/ldEP/AAGR/50mTp3MhnbSTO+rlasGef5LCACZlLt0hr6//D4Z/qFK\n",
       "BRK03Mt+Ao7bg+TKPjxqCxnS4AQ35orNOZU9h/iSzXYCFn64vo8xDS2fEcQoFHroBxF3mavuZrGb\n",
       "4Xg3FF71224bv0fg6FPe8PC+DsrSTZ5IrwJJUXs7h1u7EC43mEIbL32gDdAzAPhfIYe5OTGCACPh\n",
       "AAABdQGf52pD/wAAAwJrBrczjtyuncurc+52GgA9UC4NYJwkiIARBvs/bwb70kEQvwNG8DfSpIdW\n",
       "NYNml4bQUQVAxYZYAAEvQTd1XmJMTep2is1d0cl/wLV7uGxtEpvFqH+BUypRVnDihmvXvVZtzSfM\n",
       "cuH7p6ARanhQMgZIrO0e6R4ZHzlF1cUtoY9GSV733k9/S1quVc57u8akajrBV64vn3kupy/gNyHY\n",
       "hE8fRm5SOY7cbkxEfUQog45IESteg6CS8GiTK72XXJ0K7Ynv+GmVy/VXvotqu2EZfr6UuyoYVoWe\n",
       "42wUfiCS2UGenn5e/ZZOQlXZYmo43964yJf7dKJL4VVc9xqA3AcuQiZhe1AHqF+dXnvGqSAHADQz\n",
       "z9z47gyO+kMakI8mm0sf94XKk3hWaEBDb0TL1QZ5Fm2FNvHdoysXi+VAh+11Np3VXf5exztPyvqD\n",
       "IL55u/Rlxi9sjb5IfnMRQwq20IeO4iNeldmOa2kDNkUpIsoAAAG4QZvpSahBaJlMCH///qmWAAN9\n",
       "s//0JbbgBb11GPM53xpKTL10vddggViKf0DnTd/4rVmYOblHjPhMVspDtGGSsnPkyK0R6udTPn8b\n",
       "5b/aE/BXXMq9utWifPq1qj/DZ1HCo1qo9bJloXejzeN1WS9qCOh8lBXUudmqykqgEM7A6HzYzu8b\n",
       "lr2RGlXMiunDr2Msk/W+ml9JlQp4Y5fMi0mZJ+PvQU1X99voUcxErU4chD16phH2E7fS/4oNFRAy\n",
       "Uqn1JdxZSHBC5TJR//x1tafOd8ROPCy4rQetZ0WCsmdPrQLctfO+9+jxqXanbsZ345wZMUKct2ky\n",
       "W16Al4kvf/+dUJdMROBK51RjCTojHZ/Cj5OIPYm8PasWADcSvWdALx1C5Y9rbsA7h+Sle+CQqcy/\n",
       "cSjtLMmvlOfZ2gHaanSeGsszutiPqwzd+WBvZc4UGvu49rzr28Wrq5uJlJ+aMsyrJ23UVl8+27Fn\n",
       "OcldxZkELld1JhDZYFUtzGC860T+sJ+X/cWPMwnHeozwiv9VjbN896HJy/UySytkj8L+XFZoBE/f\n",
       "TeXcfGkVykHfoK2TyfP5GbfxQT6QTsAAAASnbW9vdgAAAGxtdmhkAAAAAAAAAAAAAAAAAAAD6AAA\n",
       "INAAAQAAAQAAAAAAAAAAAAAAAAEAAAAAAAAAAAAAAAAAAAABAAAAAAAAAAAAAAAAAABAAAAAAAAA\n",
       "AAAAAAAAAAAAAAAAAAAAAAAAAAAAAAAAAgAAA9F0cmFrAAAAXHRraGQAAAADAAAAAAAAAAAAAAAB\n",
       "AAAAAAAAINAAAAAAAAAAAAAAAAAAAAAAAAEAAAAAAAAAAAAAAAAAAAABAAAAAAAAAAAAAAAAAABA\n",
       "AAAAAlgAAAGQAAAAAAAkZWR0cwAAABxlbHN0AAAAAAAAAAEAACDQAAAQAAABAAAAAANJbWRpYQAA\n",
       "ACBtZGhkAAAAAAAAAAAAAAAAAAAoAAABUABVxAAAAAAALWhkbHIAAAAAAAAAAHZpZGUAAAAAAAAA\n",
       "AAAAAABWaWRlb0hhbmRsZXIAAAAC9G1pbmYAAAAUdm1oZAAAAAEAAAAAAAAAAAAAACRkaW5mAAAA\n",
       "HGRyZWYAAAAAAAAAAQAAAAx1cmwgAAAAAQAAArRzdGJsAAAAtHN0c2QAAAAAAAAAAQAAAKRhdmMx\n",
       "AAAAAAAAAAEAAAAAAAAAAAAAAAAAAAAAAlgBkABIAAAASAAAAAAAAAABAAAAAAAAAAAAAAAAAAAA\n",
       "AAAAAAAAAAAAAAAAAAAAAAAAGP//AAAAMmF2Y0MBZAAW/+EAGWdkABas2UCYM+XhAAADAAEAAAMA\n",
       "Cg8WLZYBAAZo6+PLIsAAAAAcdXVpZGtoQPJfJE/FujmlG88DI/MAAAAAAAAAGHN0dHMAAAAAAAAA\n",
       "AQAAACoAAAgAAAAAFHN0c3MAAAAAAAAAAQAAAAEAAADgY3R0cwAAAAAAAAAaAAAAAwAAEAAAAAAB\n",
       "AAAYAAAAAAEAAAgAAAAAAQAAEAAAAAABAAAgAAAAAAEAABAAAAAAAQAAAAAAAAAOAAAQAAAAAAEA\n",
       "ACgAAAAAAQAAEAAAAAABAAAAAAAAAAEAAAgAAAAAAQAAKAAAAAABAAAQAAAAAAEAAAAAAAAAAQAA\n",
       "CAAAAAABAAAoAAAAAAEAABAAAAAAAQAAAAAAAAABAAAIAAAAAAIAABAAAAAAAQAAKAAAAAABAAAQ\n",
       "AAAAAAEAAAAAAAAAAQAACAAAAAABAAAQAAAAABxzdHNjAAAAAAAAAAEAAAABAAAAKgAAAAEAAAC8\n",
       "c3RzegAAAAAAAAAAAAAAKgAADEQAAADCAAAAZQAAAoUAAADuAAABtwAAAeYAAACoAAAA0AAAAS4A\n",
       "AAFzAAABQQAAAL8AAABRAAAAugAAALAAAAEYAAAAsAAAALYAAAD0AAAAuwAAAb8AAAFWAAAB4QAA\n",
       "AXoAAACDAAAA1gAAAoUAAAG9AAAAcQAAAH0AAAIVAAABZAAAAHcAAACqAAABPQAAAQ0AAAH9AAAA\n",
       "+gAAAKAAAAF5AAABvAAAABRzdGNvAAAAAAAAAAEAAAAsAAAAYnVkdGEAAABabWV0YQAAAAAAAAAh\n",
       "aGRscgAAAAAAAAAAbWRpcmFwcGwAAAAAAAAAAAAAAAAtaWxzdAAAACWpdG9vAAAAHWRhdGEAAAAB\n",
       "AAAAAExhdmY1Ny44My4xMDA=\n",
       "\">\n",
       "  Your browser does not support the video tag.\n",
       "</video>"
      ],
      "text/plain": [
       "<IPython.core.display.HTML object>"
      ]
     },
     "execution_count": 96,
     "metadata": {},
     "output_type": "execute_result"
    },
    {
     "data": {
      "text/plain": [
       "<matplotlib.figure.Figure at 0x7f43b6567390>"
      ]
     },
     "metadata": {},
     "output_type": "display_data"
    }
   ],
   "source": [
    "# Trajectories can also be visualied via the simulate function \n",
    "# (note: function buggy on some systems; needs to be run twice. )\n",
    "HTML(simulate(submarine, [23,3]))"
   ]
  },
  {
   "cell_type": "code",
   "execution_count": 77,
   "metadata": {},
   "outputs": [
    {
     "data": {
      "text/plain": [
       "array([['·', '·', '·', '·', '·', '·', '·', '·', '·', '·', '·', '·', '·', '·', '·', '·', '·', '·', '·', '·', '·', '·', '·', '·', '·'],\n",
       "       ['·', '·', '·', '·', '·', '·', '·', '·', '·', '·', '·', '·', '·', '·', '·', '·', '·', '·', '·', '·', '·', '·', '·', '·', '·'],\n",
       "       ['·', '·', '·', '·', '·', '·', '·', '·', '·', '·', '·', '·', '·', '·', '·', '·', '·', '·', '·', '·', '·', '·', '·', '·', '·'],\n",
       "       ['·', '↓', '↓', '↓', '↓', '↓', '↓', '↓', '↓', '↓', '↓', '↓', '↓', '↓', '↓', '↓', '↓', '↓', '↓', '↓', '↓', '↓', '↓', '↓', '·'],\n",
       "       ['·', '↓', '↓', '↓', '↓', '↓', '↓', '↓', '↓', '↓', '↓', '↓', '↓', '↓', '↓', '↓', '↓', '↓', '↓', '↓', '↓', '↓', '↓', '↓', '·'],\n",
       "       ['·', '↓', '↓', '↓', '↓', '↓', '↓', '↓', '↓', '↓', '↓', '↓', '↓', '↓', '↓', '↓', '↓', '↓', '↓', '↓', '↓', '↓', '↓', '↓', '·'],\n",
       "       ['·', '→', '→', '→', '→', '→', '→', '→', '→', '→', '↓', '↓', '↓', '↓', '↓', '↓', '↓', '↓', '↓', '↓', '↓', '↓', '↓', '↓', '·'],\n",
       "       ['·', '→', '→', '→', '→', '→', '↑', 'X', 'X', 'X', '→', '→', '→', '→', '→', '→', '→', '↓', '↓', '↓', '↓', '↓', '↓', '↓', '·'],\n",
       "       ['·', '→', '→', '→', '→', '→', '↑', 'X', 'X', 'X', '→', '→', '→', '↑', 'X', 'X', 'X', '→', '→', '→', '→', '→', '↓', '↓', '·'],\n",
       "       ['·', '↓', '↓', '↓', '↓', '↓', '↓', 'X', 'X', 'X', '→', '→', '→', '↑', 'X', 'X', 'X', '→', '↑', 'X', 'X', 'X', '↓', '↓', '·'],\n",
       "       ['·', '↓', '↓', '↓', '↓', '↓', '↓', '↓', '↓', '↓', '↓', '↓', '↓', '↓', 'X', 'X', 'X', '→', '↑', 'X', 'X', 'X', '↓', '↓', '·'],\n",
       "       ['·', '→', '→', '→', '→', '→', '→', '→', '→', '→', '→', '→', '→', '→', '→', '→', '→', '→', '↑', 'X', 'X', 'X', '↓', '↓', '·'],\n",
       "       ['·', '→', '→', '→', '→', '→', '→', '→', '→', '→', '→', '↑', 'U', 'U', 'U', 'U', 'U', 'U', 'U', '→', '↓', '↓', '↓', '↓', '·'],\n",
       "       ['·', '→', '→', '→', '→', '→', '→', '→', '→', '→', '↑', 'U', 'U', 'U', 'U', 'U', 'U', 'U', 'U', 'U', '→', '↓', '↓', '↓', '·'],\n",
       "       ['·', '→', '→', '↑', 'X', 'X', 'X', '→', '→', '↑', 'U', 'U', 'U', 'U', 'U', 'U', 'U', 'U', 'U', 'U', 'U', '↓', '↓', '↓', '·'],\n",
       "       ['·', '→', '→', '↑', 'X', 'X', 'X', '→', '→', '↑', 'U', 'U', 'U', 'U', 'U', 'U', 'U', 'U', 'U', 'U', 'U', '→', '→', '⬤', '·'],\n",
       "       ['·', '→', '→', '↑', 'X', 'X', 'X', '→', '→', '↑', 'U', 'U', 'U', 'U', 'U', 'U', 'U', 'U', 'U', 'U', 'U', 'X', 'X', 'X', '·'],\n",
       "       ['·', '→', '→', '→', '→', '→', '→', '→', '→', '↑', 'U', 'U', 'U', 'U', 'U', 'U', 'U', 'U', 'U', 'U', 'U', 'X', 'X', 'X', '·'],\n",
       "       ['·', '→', '→', '→', '→', '→', '→', '→', '→', '↑', 'U', 'U', 'U', 'U', 'U', 'U', 'U', 'U', 'U', 'U', 'U', 'X', 'X', 'X', '·'],\n",
       "       ['·', '→', '→', '→', '→', '→', '↑', 'X', 'X', 'X', 'U', 'U', 'U', 'U', 'U', 'U', 'U', 'U', 'U', 'U', 'U', '↓', '↓', '↓', '·'],\n",
       "       ['·', '→', '→', '→', '→', '→', '↑', 'X', 'X', 'X', 'U', 'U', 'U', 'U', 'U', 'U', 'U', 'U', 'U', 'U', 'U', '↓', '↓', '↓', '·'],\n",
       "       ['·', '→', '→', '→', '→', '→', '↑', 'X', 'X', 'X', '↓', 'U', 'U', 'U', 'U', 'U', 'U', 'U', 'U', 'U', '↓', '↓', '↓', '↓', '·'],\n",
       "       ['·', '→', '→', '→', '→', '→', '↑', '←', '←', '←', '←', '←', 'U', 'U', 'U', 'U', 'U', 'U', 'U', '↓', '↓', '↓', '↓', '↓', '·'],\n",
       "       ['·', '→', '→', '→', '→', '→', '↑', '↑', '↑', '↑', '↑', '↑', '←', '←', '←', '←', '←', '←', '←', '←', '←', '←', '←', '←', '·'],\n",
       "       ['·', '·', '·', '·', '·', '·', '·', '·', '·', '·', '·', '·', '·', '·', '·', '·', '·', '·', '·', '·', '·', '·', '·', '·', '·']],\n",
       "      dtype='<U1')"
      ]
     },
     "execution_count": 77,
     "metadata": {},
     "output_type": "execute_result"
    }
   ],
   "source": [
    "# Lets plot the final policy\n",
    "draw_policy(policy)"
   ]
  },
  {
   "cell_type": "markdown",
   "metadata": {},
   "source": [
    "## Question 1.3: Policy Evaluation\n",
    "    \n",
    "Define a function that computes the state-value function $V^\\pi$ on this environment when given a random policy $\\pi$."
   ]
  },
  {
   "cell_type": "code",
   "execution_count": null,
   "metadata": {},
   "outputs": [],
   "source": []
  },
  {
   "cell_type": "markdown",
   "metadata": {},
   "source": [
    "## Question 1.4: Policy Iteration\n",
    "Similarly to the earlier section, now apply policy iteration to solving the same navigation task. In\n",
    "what ways are the results of policy iteration different from those of value iteration?"
   ]
  },
  {
   "cell_type": "code",
   "execution_count": null,
   "metadata": {},
   "outputs": [],
   "source": []
  },
  {
   "cell_type": "markdown",
   "metadata": {},
   "source": [
    "## Question 1.5: Hyper-parameters\n",
    "\n",
    "For both policy and value iteration:\n",
    "- How does varying the discount factor affect this calculated policy? Repeat the same experiment with at least three different settings of a discount factor in order to make your argument.\n",
    "- Given the insights from your experiment above, suggest a suitable strategy for setting an apropriate discount rate?"
   ]
  },
  {
   "cell_type": "code",
   "execution_count": null,
   "metadata": {},
   "outputs": [],
   "source": []
  },
  {
   "cell_type": "markdown",
   "metadata": {},
   "source": [
    "## Question 1.6: Noisy trigger\n",
    "\n",
    "The mines now have a 50% chance of blowing up if you are within their direct vicinity (i.e. on their border). \n",
    "\n",
    "How does this affect your policy? \n",
    "\n",
    "Implement this and justify your answer based on the results."
   ]
  },
  {
   "cell_type": "code",
   "execution_count": null,
   "metadata": {},
   "outputs": [],
   "source": []
  },
  {
   "cell_type": "markdown",
   "metadata": {},
   "source": [
    "# Question 2:\n",
    "*Remark: This second question need not be implemented in the notebook, in the same way you\n",
    "wrote programs for the first question. Instead, we expect to see a complete problem formulation,\n",
    "with suitable expressions and graphs, and an explanation of the solution procedure in terms of those\n",
    "expressions.*\n",
    "\n",
    "\n",
    "Now consider two additions to the above problem specification that are common in realistic versions\n",
    "of this problem:"
   ]
  },
  {
   "cell_type": "markdown",
   "metadata": {},
   "source": [
    "### Question 2.1. \n",
    "The agent must include within the costs, the ides of navigability - describing the fact that some parts of a given map are easier to travel through than others (typically, due to the ‘difficulty’ of the terrain features at that depth). One way to model this would be to include a distribution of costs over the given terrain map. By re-writing your problem specification in complete terms, explain how you will incorporate this feature in your modelling."
   ]
  },
  {
   "cell_type": "code",
   "execution_count": null,
   "metadata": {},
   "outputs": [],
   "source": []
  },
  {
   "cell_type": "markdown",
   "metadata": {},
   "source": [
    "### Question 2.2. \n",
    "The agents in the environment, previously viewed as static obstacles defining where you can and can not traverse, could have their own dynamics. For instance, one of the mines could be an active craft with its own motion policy. \n",
    "\n",
    "Assuming that you can observe the current position of this active craft through a noisy channel (e.g., sonar reflections), pose your - now interactive - motion planning problem in Bayesian terms and explain how your solution strategy might need to be altered."
   ]
  },
  {
   "cell_type": "code",
   "execution_count": null,
   "metadata": {},
   "outputs": [],
   "source": []
  }
 ],
 "metadata": {
  "kernelspec": {
   "display_name": "Python 3",
   "language": "python",
   "name": "python3"
  },
  "language_info": {
   "codemirror_mode": {
    "name": "ipython",
    "version": 3
   },
   "file_extension": ".py",
   "mimetype": "text/x-python",
   "name": "python",
   "nbconvert_exporter": "python",
   "pygments_lexer": "ipython3",
   "version": "3.6.3"
  }
 },
 "nbformat": 4,
 "nbformat_minor": 2
}
